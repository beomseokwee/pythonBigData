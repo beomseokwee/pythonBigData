{
  "nbformat": 4,
  "nbformat_minor": 0,
  "metadata": {
    "colab": {
      "name": "분석 시각화 2일차.ipynb",
      "provenance": [],
      "mount_file_id": "1Vfg3BIBuYNBeofC9ZZscMBw5AJnl44XC",
      "authorship_tag": "ABX9TyN6BYguKGXzTVdrvTipWwPO",
      "include_colab_link": true
    },
    "kernelspec": {
      "name": "python3",
      "display_name": "Python 3"
    },
    "language_info": {
      "name": "python"
    }
  },
  "cells": [
    {
      "cell_type": "markdown",
      "metadata": {
        "id": "view-in-github",
        "colab_type": "text"
      },
      "source": [
        "<a href=\"https://colab.research.google.com/github/beomseokwee/pythonBigData/blob/main/%EB%B6%84%EC%84%9D_%EC%8B%9C%EA%B0%81%ED%99%94_2%EC%9D%BC%EC%B0%A8.ipynb\" target=\"_parent\"><img src=\"https://colab.research.google.com/assets/colab-badge.svg\" alt=\"Open In Colab\"/></a>"
      ]
    },
    {
      "cell_type": "code",
      "execution_count": 1,
      "metadata": {
        "id": "CjezdXaEJrJ4"
      },
      "outputs": [],
      "source": [
        "import numpy as np"
      ]
    },
    {
      "cell_type": "code",
      "source": [
        "ls = [1,2,5,6,7]\n",
        "arr = np.array(ls)\n",
        "print(ls)"
      ],
      "metadata": {
        "colab": {
          "base_uri": "https://localhost:8080/"
        },
        "id": "UJOPaEV_Jz78",
        "outputId": "13d1c790-5ef8-4700-d5c8-ee6fcb29be1c"
      },
      "execution_count": 2,
      "outputs": [
        {
          "output_type": "stream",
          "name": "stdout",
          "text": [
            "[1, 2, 5, 6, 7]\n"
          ]
        }
      ]
    },
    {
      "cell_type": "code",
      "source": [
        "ls2 = [1,'a',2.3]\n",
        "arr2 = np.array(ls2)\n",
        "print(type(ls2[0]),type(ls2[1]),type(ls2[2]))\n",
        "print(type(arr2[0]),type(arr2[1]),type(arr2[2]))  # numpy는 배열이라고 하는데 보통 같은 형식의 원소들을 관리할때 사용 한다.\n",
        "print(arr2)"
      ],
      "metadata": {
        "colab": {
          "base_uri": "https://localhost:8080/"
        },
        "id": "5NiXtQUcJ0UP",
        "outputId": "f50585a6-01d5-433e-b241-f8e604af8091"
      },
      "execution_count": 4,
      "outputs": [
        {
          "output_type": "stream",
          "name": "stdout",
          "text": [
            "<class 'int'> <class 'str'> <class 'float'>\n",
            "<class 'numpy.str_'> <class 'numpy.str_'> <class 'numpy.str_'>\n",
            "['1' 'a' '2.3']\n"
          ]
        }
      ]
    },
    {
      "cell_type": "code",
      "source": [
        "ls3 = [[1,2,3],[2,3],[4,5,6,7]]\n",
        "#arr3 = np,array(ls3) numpydml 배열은 원소 형식이 같아야 한다.\n",
        "arr3 = np.array([[1,2],[3,4],[5,6]])\n",
        "print(arr3)\n",
        "# 리스트 vs numpy ? numpy는 규격화 되지 않으면 문제가 되서 개발시에 리스트보다 잘못된걸 빨리 발견 할 수 있다."
      ],
      "metadata": {
        "colab": {
          "base_uri": "https://localhost:8080/"
        },
        "id": "ZhxYdME5Krfq",
        "outputId": "3ea8e930-2af1-46d5-d929-995d5b3272c7"
      },
      "execution_count": 6,
      "outputs": [
        {
          "output_type": "stream",
          "name": "stdout",
          "text": [
            "[[1 2]\n",
            " [3 4]\n",
            " [5 6]]\n"
          ]
        }
      ]
    },
    {
      "cell_type": "code",
      "source": [
        "ls4 = list(range(10))\n",
        "arr4 = np.arange(10)\n",
        "print(arr4) # numpy는 다양한 배열 메소드들을 제공 하고 있다."
      ],
      "metadata": {
        "colab": {
          "base_uri": "https://localhost:8080/"
        },
        "id": "c1nAElSmLgKH",
        "outputId": "d07e33ca-faa4-4694-d635-954cfa5b94ab"
      },
      "execution_count": 9,
      "outputs": [
        {
          "output_type": "stream",
          "name": "stdout",
          "text": [
            "[0 1 2 3 4 5 6 7 8 9]\n"
          ]
        }
      ]
    },
    {
      "cell_type": "code",
      "source": [
        "ls5 = ls4*2\n",
        "arr5 = arr4*2 \n",
        "print(ls5)\n",
        "print('---')\n",
        "print(arr5)\n",
        "# 전체 요소에 대해서 곱하고 나누는걸 list에선 할 순 없지만 numpy배열에선 원하는 작업을 할 수 있다. ex) 행령에서의 수학적 연산을 파이썬에선 기본적으로 제공하고 있지 않아서 numpy 사용(numpy에선 행렬 연산 제공)\n",
        "# 속도와 메모리 때문에라도 numpy를 사용해야 하는데 일단 pass\n"
      ],
      "metadata": {
        "colab": {
          "base_uri": "https://localhost:8080/"
        },
        "id": "BHFmIYmrLw7e",
        "outputId": "10050484-e354-4c49-c176-3aa3ae369180"
      },
      "execution_count": 10,
      "outputs": [
        {
          "output_type": "stream",
          "name": "stdout",
          "text": [
            "[0, 1, 2, 3, 4, 5, 6, 7, 8, 9, 0, 1, 2, 3, 4, 5, 6, 7, 8, 9]\n",
            "---\n",
            "[ 0  2  4  6  8 10 12 14 16 18]\n"
          ]
        }
      ]
    },
    {
      "cell_type": "code",
      "source": [
        "# 다차원 배열\n",
        "\n",
        "arr = np.array([1,2,3])\n",
        "arr.shape"
      ],
      "metadata": {
        "colab": {
          "base_uri": "https://localhost:8080/"
        },
        "id": "JI_mIZUoMeTa",
        "outputId": "34422b3c-8d26-4ada-e527-f2d8fa7f62db"
      },
      "execution_count": 11,
      "outputs": [
        {
          "output_type": "execute_result",
          "data": {
            "text/plain": [
              "(3,)"
            ]
          },
          "metadata": {},
          "execution_count": 11
        }
      ]
    },
    {
      "cell_type": "code",
      "source": [
        "arr2 = np.array([[1,2,3],[4,5,6]])\n",
        "arr2.shape # 2x3배열"
      ],
      "metadata": {
        "colab": {
          "base_uri": "https://localhost:8080/"
        },
        "id": "Ckbcphf7NLuO",
        "outputId": "6ea11f4e-1487-4e82-f6d8-c5c748b083de"
      },
      "execution_count": 12,
      "outputs": [
        {
          "output_type": "execute_result",
          "data": {
            "text/plain": [
              "(2, 3)"
            ]
          },
          "metadata": {},
          "execution_count": 12
        }
      ]
    },
    {
      "cell_type": "code",
      "source": [
        "arr3 = np.random.randn(2,3)  # 구조가 2x3인 배열을 만들어 달라는 뜻\n",
        " # numpy의 메서드들 중 random한 데이터를 만들어 주는 함수\n",
        "print(arr3.shape)\n",
        "print(arr3)"
      ],
      "metadata": {
        "colab": {
          "base_uri": "https://localhost:8080/"
        },
        "id": "v-asdnR3NkX-",
        "outputId": "457f765e-ca26-4bcf-8d76-1aa675fde18e"
      },
      "execution_count": 13,
      "outputs": [
        {
          "output_type": "stream",
          "name": "stdout",
          "text": [
            "(2, 3)\n",
            "[[-0.56973484 -0.46075649 -0.78261332]\n",
            " [ 0.53214211 -2.79564473  2.17477687]]\n"
          ]
        }
      ]
    },
    {
      "cell_type": "code",
      "source": [
        "arr1 = np.array([[1,2],[3,4]])  # 행렬 연산의 제공 (numpy에서)\n",
        "arr2 = np.array([[5,2],[1,3]])\n",
        "arr3 = arr1 + arr2\n",
        "print(arr3)"
      ],
      "metadata": {
        "colab": {
          "base_uri": "https://localhost:8080/"
        },
        "id": "VfjewqamNiyQ",
        "outputId": "96b82f57-411a-4964-cad2-52d515f4f90e"
      },
      "execution_count": 15,
      "outputs": [
        {
          "output_type": "stream",
          "name": "stdout",
          "text": [
            "[[6 4]\n",
            " [4 7]]\n"
          ]
        }
      ]
    },
    {
      "cell_type": "code",
      "source": [
        "arr = np.array([1,2,'a',3.23])\n",
        "arr.dtype"
      ],
      "metadata": {
        "colab": {
          "base_uri": "https://localhost:8080/"
        },
        "id": "v_Thvq7HOZEh",
        "outputId": "4f01f9bc-7219-4e16-9f8c-2628680a3928"
      },
      "execution_count": 16,
      "outputs": [
        {
          "output_type": "execute_result",
          "data": {
            "text/plain": [
              "dtype('<U32')"
            ]
          },
          "metadata": {},
          "execution_count": 16
        }
      ]
    },
    {
      "cell_type": "code",
      "source": [
        "arr = np.array([1,2,3,4]) # 모든 원소가 정수면 int로 인식 하지만, 한개라도 float형식이 오게 되면 모든 형식이 float으로 바뀐다\n",
        "arr.dtype"
      ],
      "metadata": {
        "colab": {
          "base_uri": "https://localhost:8080/"
        },
        "id": "anX3F_BuOk9U",
        "outputId": "8c729519-cd6e-4e21-ead8-1e4ac4a04d2e"
      },
      "execution_count": 17,
      "outputs": [
        {
          "output_type": "execute_result",
          "data": {
            "text/plain": [
              "dtype('int64')"
            ]
          },
          "metadata": {},
          "execution_count": 17
        }
      ]
    },
    {
      "cell_type": "code",
      "source": [
        "arr = np.array([1,2,3,4.0])\n",
        "arr.dtype"
      ],
      "metadata": {
        "colab": {
          "base_uri": "https://localhost:8080/"
        },
        "id": "g6lFbxhXO0kc",
        "outputId": "4be27225-7cb3-42d6-9f92-0817cd18bd88"
      },
      "execution_count": 18,
      "outputs": [
        {
          "output_type": "execute_result",
          "data": {
            "text/plain": [
              "dtype('float64')"
            ]
          },
          "metadata": {},
          "execution_count": 18
        }
      ]
    },
    {
      "cell_type": "code",
      "source": [
        "arr = np.array([1,'a',2.3])\n",
        "print(type(arr[0]),type(arr[1]),type(arr[2]))\n",
        "print(arr.dtype)  # 메모리를 할당할때 제일 문자열 길이가 긴 형식에 맞춰서 동일하게 메모리를 할당하게 된다."
      ],
      "metadata": {
        "colab": {
          "base_uri": "https://localhost:8080/"
        },
        "id": "vv0rET9RO6st",
        "outputId": "1cf34bca-a413-497f-d30a-751a71b5133d"
      },
      "execution_count": 19,
      "outputs": [
        {
          "output_type": "stream",
          "name": "stdout",
          "text": [
            "<class 'numpy.str_'> <class 'numpy.str_'> <class 'numpy.str_'>\n",
            "<U32\n"
          ]
        }
      ]
    },
    {
      "cell_type": "markdown",
      "source": [
        "# 배열 생성"
      ],
      "metadata": {
        "id": "TJqQ9QkTPfiV"
      }
    },
    {
      "cell_type": "code",
      "source": [
        "arr = np.array([1,2,3]) #리스트를 입력 인자로 배열 개체 생성\n",
        "print(arr)"
      ],
      "metadata": {
        "colab": {
          "base_uri": "https://localhost:8080/"
        },
        "id": "aZcP_ZRwPY8f",
        "outputId": "07c23474-dcb3-4474-e957-eaa653720108"
      },
      "execution_count": 20,
      "outputs": [
        {
          "output_type": "stream",
          "name": "stdout",
          "text": [
            "[1 2 3]\n"
          ]
        }
      ]
    },
    {
      "cell_type": "markdown",
      "source": [
        ""
      ],
      "metadata": {
        "id": "h90AXVA3MgOv"
      }
    },
    {
      "cell_type": "code",
      "source": [
        "arr2 = np.array([[1,2,3],[4,5,6]]) #리스트를 입력 인자로 배열 개체 생성(다차원 배열)\n",
        "print(arr2)"
      ],
      "metadata": {
        "colab": {
          "base_uri": "https://localhost:8080/"
        },
        "id": "02forJPqPq3S",
        "outputId": "7cfcc8a6-d688-4de1-9342-59ef8c67c2e3"
      },
      "execution_count": 21,
      "outputs": [
        {
          "output_type": "stream",
          "name": "stdout",
          "text": [
            "[[1 2 3]\n",
            " [4 5 6]]\n"
          ]
        }
      ]
    },
    {
      "cell_type": "code",
      "source": [
        "print(\"차원:\",arr2.ndim) # 몇차원인지 알고 싶을데 dimention = 차원\n",
        "print(\"구조:\",arr2.shape)"
      ],
      "metadata": {
        "colab": {
          "base_uri": "https://localhost:8080/"
        },
        "id": "bAFQTgKyPzqe",
        "outputId": "a015b0ac-013a-4b69-adf4-fe4a9f348bcc"
      },
      "execution_count": 22,
      "outputs": [
        {
          "output_type": "stream",
          "name": "stdout",
          "text": [
            "차원: 2\n",
            "구조: (2, 3)\n"
          ]
        }
      ]
    },
    {
      "cell_type": "code",
      "source": [
        "arr3 = np.zeros(10) # 0을 원소로 하는 배열\n",
        "print(arr3)"
      ],
      "metadata": {
        "colab": {
          "base_uri": "https://localhost:8080/"
        },
        "id": "liDv8uJfQDdI",
        "outputId": "64ee3c36-7110-45ef-8fd0-92d15caf6ed3"
      },
      "execution_count": 23,
      "outputs": [
        {
          "output_type": "stream",
          "name": "stdout",
          "text": [
            "[0. 0. 0. 0. 0. 0. 0. 0. 0. 0.]\n"
          ]
        }
      ]
    },
    {
      "cell_type": "code",
      "source": [
        "arr4 = np.zeros((4,5)) #0을 원소로 4x5 구조의 배열 생성\n",
        "print(arr4) # 쫄 지 말 자 얍"
      ],
      "metadata": {
        "colab": {
          "base_uri": "https://localhost:8080/"
        },
        "id": "vnpcWmRGQwDz",
        "outputId": "738cf0c8-8e40-491c-8948-becfae2ac00d"
      },
      "execution_count": 24,
      "outputs": [
        {
          "output_type": "stream",
          "name": "stdout",
          "text": [
            "[[0. 0. 0. 0. 0.]\n",
            " [0. 0. 0. 0. 0.]\n",
            " [0. 0. 0. 0. 0.]\n",
            " [0. 0. 0. 0. 0.]]\n"
          ]
        }
      ]
    },
    {
      "cell_type": "code",
      "source": [
        "arr5 = np.ones(10) # 0을 원소로 하는 배열 같은 형태\n",
        "print(arr5)\n",
        "arr6 = np.ones((2,3)) # 원소의 값이 1로 구성 \n",
        "print(arr6)"
      ],
      "metadata": {
        "colab": {
          "base_uri": "https://localhost:8080/"
        },
        "id": "WBtBSREiRbl3",
        "outputId": "aebf1022-225f-47c1-ef05-e18de8d9e7aa"
      },
      "execution_count": 25,
      "outputs": [
        {
          "output_type": "stream",
          "name": "stdout",
          "text": [
            "[1. 1. 1. 1. 1. 1. 1. 1. 1. 1.]\n",
            "[[1. 1. 1.]\n",
            " [1. 1. 1.]]\n"
          ]
        }
      ]
    },
    {
      "cell_type": "code",
      "source": [
        "arr7 = np.arange(5,100,3)\n",
        "print(arr7)"
      ],
      "metadata": {
        "colab": {
          "base_uri": "https://localhost:8080/"
        },
        "id": "_TwuXMyZRrew",
        "outputId": "10a23a47-6fc0-4406-8050-0f0f6a5a87b5"
      },
      "execution_count": 26,
      "outputs": [
        {
          "output_type": "stream",
          "name": "stdout",
          "text": [
            "[ 5  8 11 14 17 20 23 26 29 32 35 38 41 44 47 50 53 56 59 62 65 68 71 74\n",
            " 77 80 83 86 89 92 95 98]\n"
          ]
        }
      ]
    },
    {
      "cell_type": "markdown",
      "source": [
        "# 원소 타입"
      ],
      "metadata": {
        "id": "kq84c8x2WGe0"
      }
    },
    {
      "cell_type": "code",
      "source": [
        "arr = np.array([1,2,3])\n",
        "print(arr.dtype)  # defult는 int64"
      ],
      "metadata": {
        "colab": {
          "base_uri": "https://localhost:8080/"
        },
        "id": "eKy02j_9SVmV",
        "outputId": "c43a5380-83c9-4d2c-e8f7-bd5866c27a67"
      },
      "execution_count": 27,
      "outputs": [
        {
          "output_type": "stream",
          "name": "stdout",
          "text": [
            "int64\n"
          ]
        }
      ]
    },
    {
      "cell_type": "code",
      "source": [
        "arr2 = np.array([1,2,3,4.3])\n",
        "print(arr2.dtype)"
      ],
      "metadata": {
        "colab": {
          "base_uri": "https://localhost:8080/"
        },
        "id": "H8VGftvJWj9a",
        "outputId": "18fe9a61-2356-44d3-ecad-59f482fbbe00"
      },
      "execution_count": 28,
      "outputs": [
        {
          "output_type": "stream",
          "name": "stdout",
          "text": [
            "float64\n"
          ]
        }
      ]
    },
    {
      "cell_type": "code",
      "source": [
        "arr3 = np.array([1,2,3,4],dtype=np.float64)\n",
        "print(arr3.dtype)"
      ],
      "metadata": {
        "colab": {
          "base_uri": "https://localhost:8080/"
        },
        "id": "ZGey4BjZWqui",
        "outputId": "e679ef97-e7e7-44e7-db85-d4d04082f763"
      },
      "execution_count": 29,
      "outputs": [
        {
          "output_type": "stream",
          "name": "stdout",
          "text": [
            "float64\n"
          ]
        }
      ]
    },
    {
      "cell_type": "code",
      "source": [
        "print(arr3)\n",
        "arr4 = arr3.astype(int) # type을 캐스팅 (float에서 int로)\n",
        "print(arr3)\n",
        "print(arr4)  # 반환값은 바뀌었지만 원본이 바뀌는건 아니다. 파이썬에서는 이런 특징을 잘 확인하면서 사용할 것\n"
      ],
      "metadata": {
        "colab": {
          "base_uri": "https://localhost:8080/"
        },
        "id": "jnnPnVooW4AN",
        "outputId": "84950be3-bdd9-4f3b-f50f-dfcb72f18216"
      },
      "execution_count": 31,
      "outputs": [
        {
          "output_type": "stream",
          "name": "stdout",
          "text": [
            "[1. 2. 3. 4.]\n",
            "[1. 2. 3. 4.]\n",
            "[1 2 3 4]\n"
          ]
        }
      ]
    },
    {
      "cell_type": "markdown",
      "source": [
        "# 산술 연산"
      ],
      "metadata": {
        "id": "yKM1GM5qXivT"
      }
    },
    {
      "cell_type": "code",
      "source": [
        "arr1 = np.array([[1,2,3],[3,4,5]])\n",
        "arr2 = np.array([[2,1,0],[1,2,3]])\n",
        "print(\"arr1\\n\",arr1)\n",
        "print(\"arr2\\n\",arr2)\n"
      ],
      "metadata": {
        "colab": {
          "base_uri": "https://localhost:8080/"
        },
        "id": "Rj0OJDnHXctx",
        "outputId": "f601a53a-6a50-4bdb-b7dc-01f291a68b4b"
      },
      "execution_count": 33,
      "outputs": [
        {
          "output_type": "stream",
          "name": "stdout",
          "text": [
            "arr1\n",
            " [[1 2 3]\n",
            " [3 4 5]]\n",
            "arr2\n",
            " [[2 1 0]\n",
            " [1 2 3]]\n"
          ]
        }
      ]
    },
    {
      "cell_type": "code",
      "source": [
        "arr3 = arr1 + arr2\n",
        "print(\"arr1+arr2\\n\",arr3) # 같은 행렬에 있는 같은 요소끼리 더하기"
      ],
      "metadata": {
        "colab": {
          "base_uri": "https://localhost:8080/"
        },
        "id": "0PGfemdRXztZ",
        "outputId": "a88c30ad-2484-42d2-fe95-5874d495a36b"
      },
      "execution_count": 34,
      "outputs": [
        {
          "output_type": "stream",
          "name": "stdout",
          "text": [
            "arr1+arr2\n",
            " [[3 3 3]\n",
            " [4 6 8]]\n"
          ]
        }
      ]
    },
    {
      "cell_type": "code",
      "source": [
        "arr4 = arr1 - arr2\n",
        "print(\"arr1-arr2\\n\",arr4) # 뺄셈 "
      ],
      "metadata": {
        "colab": {
          "base_uri": "https://localhost:8080/"
        },
        "id": "D5MS6IB-YA3G",
        "outputId": "144c7179-be03-4e5f-938d-ce390f8b16b4"
      },
      "execution_count": 36,
      "outputs": [
        {
          "output_type": "stream",
          "name": "stdout",
          "text": [
            "arr1-arr2\n",
            " [[-1  1  3]\n",
            " [ 2  2  2]]\n"
          ]
        }
      ]
    },
    {
      "cell_type": "code",
      "source": [
        "arr5 = arr1 * arr2\n",
        "print(\"arr1*arr2\\n\",arr5) # 곱  원래의 행렬의 곱이아니라 각 자리 원소끼리 곱해짐"
      ],
      "metadata": {
        "colab": {
          "base_uri": "https://localhost:8080/"
        },
        "id": "4kZn6RkLYINP",
        "outputId": "f94f10b7-8403-4bdd-985c-ed8f06d653ce"
      },
      "execution_count": 39,
      "outputs": [
        {
          "output_type": "stream",
          "name": "stdout",
          "text": [
            "arr1*arr2\n",
            " [[ 2  2  0]\n",
            " [ 3  8 15]]\n"
          ]
        }
      ]
    },
    {
      "cell_type": "code",
      "source": [
        "# 다른 방법 (원래 행렬의 곱셈)\n",
        "# arr6 = np.dot(arr,arr2) # 내적? 앞쪽에 있는 열 개수와 뒤쪽의 행개수가 일치 해야 한다.\n",
        "# print(arr6)"
      ],
      "metadata": {
        "colab": {
          "base_uri": "https://localhost:8080/",
          "height": 248
        },
        "id": "afNuOkmpYkV_",
        "outputId": "a0106bed-5375-4aa4-b6cf-cb335f410e4c"
      },
      "execution_count": 40,
      "outputs": [
        {
          "output_type": "error",
          "ename": "ValueError",
          "evalue": "ignored",
          "traceback": [
            "\u001b[0;31m---------------------------------------------------------------------------\u001b[0m",
            "\u001b[0;31mValueError\u001b[0m                                Traceback (most recent call last)",
            "\u001b[0;32m<ipython-input-40-17f3e38d1011>\u001b[0m in \u001b[0;36m<module>\u001b[0;34m()\u001b[0m\n\u001b[1;32m      1\u001b[0m \u001b[0;31m# 다른 방법 (원래 행렬의 곱셈)\u001b[0m\u001b[0;34m\u001b[0m\u001b[0;34m\u001b[0m\u001b[0;34m\u001b[0m\u001b[0m\n\u001b[0;32m----> 2\u001b[0;31m \u001b[0marr6\u001b[0m \u001b[0;34m=\u001b[0m \u001b[0mnp\u001b[0m\u001b[0;34m.\u001b[0m\u001b[0mdot\u001b[0m\u001b[0;34m(\u001b[0m\u001b[0marr\u001b[0m\u001b[0;34m,\u001b[0m\u001b[0marr2\u001b[0m\u001b[0;34m)\u001b[0m\u001b[0;34m\u001b[0m\u001b[0;34m\u001b[0m\u001b[0m\n\u001b[0m\u001b[1;32m      3\u001b[0m \u001b[0mprint\u001b[0m\u001b[0;34m(\u001b[0m\u001b[0marr6\u001b[0m\u001b[0;34m)\u001b[0m\u001b[0;34m\u001b[0m\u001b[0;34m\u001b[0m\u001b[0m\n",
            "\u001b[0;32m<__array_function__ internals>\u001b[0m in \u001b[0;36mdot\u001b[0;34m(*args, **kwargs)\u001b[0m\n",
            "\u001b[0;31mValueError\u001b[0m: shapes (3,) and (2,3) not aligned: 3 (dim 0) != 2 (dim 0)"
          ]
        }
      ]
    },
    {
      "cell_type": "code",
      "source": [
        "arr7 = arr1/3.0\n",
        "print(\"arr1/3.0\\n\",arr7)"
      ],
      "metadata": {
        "colab": {
          "base_uri": "https://localhost:8080/"
        },
        "id": "i3boIJGPZDcS",
        "outputId": "247dcd72-cbbb-441d-c70e-8a04bb44e440"
      },
      "execution_count": 41,
      "outputs": [
        {
          "output_type": "stream",
          "name": "stdout",
          "text": [
            "arr1/3.0\n",
            " [[0.33333333 0.66666667 1.        ]\n",
            " [1.         1.33333333 1.66666667]]\n"
          ]
        }
      ]
    },
    {
      "cell_type": "code",
      "source": [
        "arr8 = arr1*3.0\n",
        "print(\"arr1*3.0\\n\",arr8)"
      ],
      "metadata": {
        "colab": {
          "base_uri": "https://localhost:8080/"
        },
        "id": "Sy5VBKj6ZRhA",
        "outputId": "ed3ff88c-97ee-417f-f366-7eb4c3d591cb"
      },
      "execution_count": 42,
      "outputs": [
        {
          "output_type": "stream",
          "name": "stdout",
          "text": [
            "arr1*3.0\n",
            " [[ 3.  6.  9.]\n",
            " [ 9. 12. 15.]]\n"
          ]
        }
      ]
    },
    {
      "cell_type": "code",
      "source": [
        "heights = np.random.normal(172.5,scale=5,size=1000)\n",
        "print(sum(heights)/len(heights))"
      ],
      "metadata": {
        "colab": {
          "base_uri": "https://localhost:8080/"
        },
        "id": "hS3pOtFNZbSN",
        "outputId": "81170ada-ce32-4425-8a11-cf93299fbd50"
      },
      "execution_count": 74,
      "outputs": [
        {
          "output_type": "stream",
          "name": "stdout",
          "text": [
            "172.6013384049898\n"
          ]
        }
      ]
    },
    {
      "cell_type": "code",
      "source": [
        "import matplotlib.pyplot as plt\n",
        "plt.plot(heights,'.')\n",
        "plt.show()"
      ],
      "metadata": {
        "colab": {
          "base_uri": "https://localhost:8080/",
          "height": 265
        },
        "id": "rKqPozXRaMEI",
        "outputId": "27022de1-bd73-4c81-a2d8-b6da9cf8aeb4"
      },
      "execution_count": 75,
      "outputs": [
        {
          "output_type": "display_data",
          "data": {
            "text/plain": [
              "<Figure size 432x288 with 1 Axes>"
            ],
            "image/png": "[encoded data removed]"
          },
          "metadata": {
            "needs_background": "light"
          }
        }
      ]
    },
    {
      "cell_type": "code",
      "source": [
        "# 위쪽에 그래프를 보기가 불편하니까(1000개의 자료)\n",
        "bins = np.zeros(50)\n",
        "for height in heights:\n",
        "  index = int(height)-150\n",
        "  bins[index]=bins[index]+1\n",
        "print(bins)  # 보기좋게 구간별로 도수 색인"
      ],
      "metadata": {
        "colab": {
          "base_uri": "https://localhost:8080/"
        },
        "id": "pnncOIMUarnd",
        "outputId": "a29b6b95-93de-4ff4-c431-1155d81c658c"
      },
      "execution_count": 76,
      "outputs": [
        {
          "output_type": "stream",
          "name": "stdout",
          "text": [
            "[ 0.  0.  0.  0.  0.  0.  0.  1.  1.  5.  3.  8.  5. 14. 19. 27. 42. 56.\n",
            " 60. 59. 78. 82. 90. 69. 60. 67. 56. 52. 40. 34. 29. 16. 10.  7.  5.  0.\n",
            "  4.  1.  0.  0.  0.  0.  0.  0.  0.  0.  0.  0.  0.  0.]\n"
          ]
        }
      ]
    },
    {
      "cell_type": "code",
      "source": [
        "plt.plot(bins,'.')\n",
        "plt.show()   # random으로 인해서 완벽하진 않지만 np의 normal로 인해서 정규분포의 데이터를 받은걸 만들어 준것"
      ],
      "metadata": {
        "colab": {
          "base_uri": "https://localhost:8080/",
          "height": 265
        },
        "id": "JFKZ7D7qbYSV",
        "outputId": "45229219-e70a-4d12-98ea-e1ce7081c168"
      },
      "execution_count": 77,
      "outputs": [
        {
          "output_type": "display_data",
          "data": {
            "text/plain": [
              "<Figure size 432x288 with 1 Axes>"
            ],
            "image/png": "[encoded data removed]"
          },
          "metadata": {
            "needs_background": "light"
          }
        }
      ]
    },
    {
      "cell_type": "code",
      "source": [
        "bmis = np.random.normal(22,scale=2,size=1000)\n",
        "print(sum(bmis)/len(bmis))"
      ],
      "metadata": {
        "colab": {
          "base_uri": "https://localhost:8080/"
        },
        "id": "3w1uQ0Ribsxx",
        "outputId": "4f0f0264-0f17-45e7-b2c6-ab052a357d00"
      },
      "execution_count": 78,
      "outputs": [
        {
          "output_type": "stream",
          "name": "stdout",
          "text": [
            "22.082859558158315\n"
          ]
        }
      ]
    },
    {
      "cell_type": "code",
      "source": [
        "# 위쪽에 그래프를 보기가 불편하니까(1000개의 자료)\n",
        "bins2 = np.zeros(200)\n",
        "for bmi in bmis:\n",
        "  index = int(bmi*10)-120 # bmi가 12부터 32인거 까지 ?\n",
        "  #print(index)\n",
        "  bins2[index]=bins2[index]+1\n",
        "#print(bins)\n",
        "plt.plot(bins2,'.')\n",
        "plt.show()"
      ],
      "metadata": {
        "colab": {
          "base_uri": "https://localhost:8080/",
          "height": 265
        },
        "id": "V4dfiXODcK19",
        "outputId": "810c8695-56dc-43bb-c330-d47f327713a8"
      },
      "execution_count": 79,
      "outputs": [
        {
          "output_type": "display_data",
          "data": {
            "text/plain": [
              "<Figure size 432x288 with 1 Axes>"
            ],
            "image/png": "[encoded data removed]"
          },
          "metadata": {
            "needs_background": "light"
          }
        }
      ]
    },
    {
      "cell_type": "code",
      "source": [
        "plt.hist(bmis,bins=50)\n",
        "plt.show()"
      ],
      "metadata": {
        "colab": {
          "base_uri": "https://localhost:8080/",
          "height": 265
        },
        "id": "ghVvyTVdkcfQ",
        "outputId": "a8d5f670-194e-452b-ce18-a3d944bf3433"
      },
      "execution_count": 85,
      "outputs": [
        {
          "output_type": "display_data",
          "data": {
            "text/plain": [
              "<Figure size 432x288 with 1 Axes>"
            ],
            "image/png": "[encoded data removed]"
          },
          "metadata": {
            "needs_background": "light"
          }
        }
      ]
    },
    {
      "cell_type": "code",
      "source": [
        "# 우리가 만든 random화 함수가 크면 클 수록 정규 분포에 근접 하게 된다.\n",
        "weights = bmi * heights*heights/10000\n",
        "print(sum(weights)/len(weights)) #대략적으로의 한국남자의 평균 몸무게는 이정도라고 알 수 있다."
      ],
      "metadata": {
        "colab": {
          "base_uri": "https://localhost:8080/"
        },
        "id": "ye50oHz6dCcK",
        "outputId": "7548b515-ee8f-4eed-f8b4-974bdb8b0158"
      },
      "execution_count": 80,
      "outputs": [
        {
          "output_type": "stream",
          "name": "stdout",
          "text": [
            "69.62081780259304\n"
          ]
        }
      ]
    },
    {
      "cell_type": "code",
      "source": [
        "std_heights = np.std(heights)\n",
        "aver_heights = np.average(heights)\n",
        "print(\"표준편차:\", std_heights)\n",
        "print(\"평균\",aver_heights)"
      ],
      "metadata": {
        "colab": {
          "base_uri": "https://localhost:8080/"
        },
        "id": "tnC54WGFdncM",
        "outputId": "c738f670-08a7-4eaf-c195-d953114d015e"
      },
      "execution_count": 81,
      "outputs": [
        {
          "output_type": "stream",
          "name": "stdout",
          "text": [
            "표준편차: 4.948886811127175\n",
            "평균 172.60133840498986\n"
          ]
        }
      ]
    },
    {
      "cell_type": "code",
      "source": [
        "heights2 = (heights-aver_heights)/std_heights\n",
        "std_heights2 = np.std(heights2)\n",
        "aver_heights2 = np.average(heights2)\n",
        "print(\"표준편차:\", std_heights2)\n",
        "print(\"평균\",aver_heights2)\n",
        "# 모든 도수에 평균값을 빼주게 되면 다 더했을때 0으로 수렴하게 된다?\n",
        "# 여기서 표준 편차로 다눠주면 1로 수렴?\n"
      ],
      "metadata": {
        "colab": {
          "base_uri": "https://localhost:8080/"
        },
        "id": "dGRbmRymek7V",
        "outputId": "cb78f6d1-8817-4eda-fdd4-f5cc2b995767"
      },
      "execution_count": 82,
      "outputs": [
        {
          "output_type": "stream",
          "name": "stdout",
          "text": [
            "표준편차: 1.0\n",
            "평균 -8.633094239485217e-16\n"
          ]
        }
      ]
    },
    {
      "cell_type": "code",
      "source": [
        "arr = np.arange(1000)\n",
        "print(arr)"
      ],
      "metadata": {
        "colab": {
          "base_uri": "https://localhost:8080/"
        },
        "id": "FG_YznvegHBp",
        "outputId": "45d85d8c-de91-49ed-b223-98e7c29802f9"
      },
      "execution_count": 86,
      "outputs": [
        {
          "output_type": "stream",
          "name": "stdout",
          "text": [
            "[  0   1   2   3   4   5   6   7   8   9  10  11  12  13  14  15  16  17\n",
            "  18  19  20  21  22  23  24  25  26  27  28  29  30  31  32  33  34  35\n",
            "  36  37  38  39  40  41  42  43  44  45  46  47  48  49  50  51  52  53\n",
            "  54  55  56  57  58  59  60  61  62  63  64  65  66  67  68  69  70  71\n",
            "  72  73  74  75  76  77  78  79  80  81  82  83  84  85  86  87  88  89\n",
            "  90  91  92  93  94  95  96  97  98  99 100 101 102 103 104 105 106 107\n",
            " 108 109 110 111 112 113 114 115 116 117 118 119 120 121 122 123 124 125\n",
            " 126 127 128 129 130 131 132 133 134 135 136 137 138 139 140 141 142 143\n",
            " 144 145 146 147 148 149 150 151 152 153 154 155 156 157 158 159 160 161\n",
            " 162 163 164 165 166 167 168 169 170 171 172 173 174 175 176 177 178 179\n",
            " 180 181 182 183 184 185 186 187 188 189 190 191 192 193 194 195 196 197\n",
            " 198 199 200 201 202 203 204 205 206 207 208 209 210 211 212 213 214 215\n",
            " 216 217 218 219 220 221 222 223 224 225 226 227 228 229 230 231 232 233\n",
            " 234 235 236 237 238 239 240 241 242 243 244 245 246 247 248 249 250 251\n",
            " 252 253 254 255 256 257 258 259 260 261 262 263 264 265 266 267 268 269\n",
            " 270 271 272 273 274 275 276 277 278 279 280 281 282 283 284 285 286 287\n",
            " 288 289 290 291 292 293 294 295 296 297 298 299 300 301 302 303 304 305\n",
            " 306 307 308 309 310 311 312 313 314 315 316 317 318 319 320 321 322 323\n",
            " 324 325 326 327 328 329 330 331 332 333 334 335 336 337 338 339 340 341\n",
            " 342 343 344 345 346 347 348 349 350 351 352 353 354 355 356 357 358 359\n",
            " 360 361 362 363 364 365 366 367 368 369 370 371 372 373 374 375 376 377\n",
            " 378 379 380 381 382 383 384 385 386 387 388 389 390 391 392 393 394 395\n",
            " 396 397 398 399 400 401 402 403 404 405 406 407 408 409 410 411 412 413\n",
            " 414 415 416 417 418 419 420 421 422 423 424 425 426 427 428 429 430 431\n",
            " 432 433 434 435 436 437 438 439 440 441 442 443 444 445 446 447 448 449\n",
            " 450 451 452 453 454 455 456 457 458 459 460 461 462 463 464 465 466 467\n",
            " 468 469 470 471 472 473 474 475 476 477 478 479 480 481 482 483 484 485\n",
            " 486 487 488 489 490 491 492 493 494 495 496 497 498 499 500 501 502 503\n",
            " 504 505 506 507 508 509 510 511 512 513 514 515 516 517 518 519 520 521\n",
            " 522 523 524 525 526 527 528 529 530 531 532 533 534 535 536 537 538 539\n",
            " 540 541 542 543 544 545 546 547 548 549 550 551 552 553 554 555 556 557\n",
            " 558 559 560 561 562 563 564 565 566 567 568 569 570 571 572 573 574 575\n",
            " 576 577 578 579 580 581 582 583 584 585 586 587 588 589 590 591 592 593\n",
            " 594 595 596 597 598 599 600 601 602 603 604 605 606 607 608 609 610 611\n",
            " 612 613 614 615 616 617 618 619 620 621 622 623 624 625 626 627 628 629\n",
            " 630 631 632 633 634 635 636 637 638 639 640 641 642 643 644 645 646 647\n",
            " 648 649 650 651 652 653 654 655 656 657 658 659 660 661 662 663 664 665\n",
            " 666 667 668 669 670 671 672 673 674 675 676 677 678 679 680 681 682 683\n",
            " 684 685 686 687 688 689 690 691 692 693 694 695 696 697 698 699 700 701\n",
            " 702 703 704 705 706 707 708 709 710 711 712 713 714 715 716 717 718 719\n",
            " 720 721 722 723 724 725 726 727 728 729 730 731 732 733 734 735 736 737\n",
            " 738 739 740 741 742 743 744 745 746 747 748 749 750 751 752 753 754 755\n",
            " 756 757 758 759 760 761 762 763 764 765 766 767 768 769 770 771 772 773\n",
            " 774 775 776 777 778 779 780 781 782 783 784 785 786 787 788 789 790 791\n",
            " 792 793 794 795 796 797 798 799 800 801 802 803 804 805 806 807 808 809\n",
            " 810 811 812 813 814 815 816 817 818 819 820 821 822 823 824 825 826 827\n",
            " 828 829 830 831 832 833 834 835 836 837 838 839 840 841 842 843 844 845\n",
            " 846 847 848 849 850 851 852 853 854 855 856 857 858 859 860 861 862 863\n",
            " 864 865 866 867 868 869 870 871 872 873 874 875 876 877 878 879 880 881\n",
            " 882 883 884 885 886 887 888 889 890 891 892 893 894 895 896 897 898 899\n",
            " 900 901 902 903 904 905 906 907 908 909 910 911 912 913 914 915 916 917\n",
            " 918 919 920 921 922 923 924 925 926 927 928 929 930 931 932 933 934 935\n",
            " 936 937 938 939 940 941 942 943 944 945 946 947 948 949 950 951 952 953\n",
            " 954 955 956 957 958 959 960 961 962 963 964 965 966 967 968 969 970 971\n",
            " 972 973 974 975 976 977 978 979 980 981 982 983 984 985 986 987 988 989\n",
            " 990 991 992 993 994 995 996 997 998 999]\n"
          ]
        }
      ]
    },
    {
      "cell_type": "code",
      "source": [
        "arr[5:8]"
      ],
      "metadata": {
        "colab": {
          "base_uri": "https://localhost:8080/"
        },
        "id": "pbcZH69VlKO1",
        "outputId": "5398df18-4ddc-480d-b683-6c3d75d971e7"
      },
      "execution_count": 88,
      "outputs": [
        {
          "output_type": "execute_result",
          "data": {
            "text/plain": [
              "array([5, 6, 7])"
            ]
          },
          "metadata": {},
          "execution_count": 88
        }
      ]
    },
    {
      "cell_type": "code",
      "source": [
        "arr[-2]"
      ],
      "metadata": {
        "colab": {
          "base_uri": "https://localhost:8080/"
        },
        "id": "2T0EqD74laqg",
        "outputId": "e9ff0f4c-5e07-4a2a-d58d-e3ad99d79844"
      },
      "execution_count": 89,
      "outputs": [
        {
          "output_type": "execute_result",
          "data": {
            "text/plain": [
              "998"
            ]
          },
          "metadata": {},
          "execution_count": 89
        }
      ]
    },
    {
      "cell_type": "code",
      "source": [
        "arr[980:-13]"
      ],
      "metadata": {
        "colab": {
          "base_uri": "https://localhost:8080/"
        },
        "id": "Rh0KZbN-lcvH",
        "outputId": "676f8ef4-8900-45c8-face-101a63f071bc"
      },
      "execution_count": 90,
      "outputs": [
        {
          "output_type": "execute_result",
          "data": {
            "text/plain": [
              "array([980, 981, 982, 983, 984, 985, 986])"
            ]
          },
          "metadata": {},
          "execution_count": 90
        }
      ]
    },
    {
      "cell_type": "code",
      "source": [
        "arr[:5]"
      ],
      "metadata": {
        "colab": {
          "base_uri": "https://localhost:8080/"
        },
        "id": "eWfERia9llGN",
        "outputId": "aeda1b9b-8763-4c2d-8928-827d8ff48518"
      },
      "execution_count": 92,
      "outputs": [
        {
          "output_type": "execute_result",
          "data": {
            "text/plain": [
              "array([0, 1, 2, 3, 4])"
            ]
          },
          "metadata": {},
          "execution_count": 92
        }
      ]
    },
    {
      "cell_type": "code",
      "source": [
        "arr[980:]"
      ],
      "metadata": {
        "colab": {
          "base_uri": "https://localhost:8080/"
        },
        "id": "pZS1jM9alncI",
        "outputId": "c0f6d1ea-276d-4bfb-df58-73b8afc5a6bb"
      },
      "execution_count": 93,
      "outputs": [
        {
          "output_type": "execute_result",
          "data": {
            "text/plain": [
              "array([980, 981, 982, 983, 984, 985, 986, 987, 988, 989, 990, 991, 992,\n",
              "       993, 994, 995, 996, 997, 998, 999])"
            ]
          },
          "metadata": {},
          "execution_count": 93
        }
      ]
    },
    {
      "cell_type": "code",
      "source": [
        "arr2 = np.array([[1,2,3],[4,5,6]])\n",
        "print(arr2[0])"
      ],
      "metadata": {
        "colab": {
          "base_uri": "https://localhost:8080/"
        },
        "id": "M_yUMCF0l26L",
        "outputId": "5495d9cd-7f50-4111-aec1-af25c00ce9fe"
      },
      "execution_count": 94,
      "outputs": [
        {
          "output_type": "stream",
          "name": "stdout",
          "text": [
            "[1 2 3]\n"
          ]
        }
      ]
    },
    {
      "cell_type": "code",
      "source": [
        "arr2[0][1]"
      ],
      "metadata": {
        "colab": {
          "base_uri": "https://localhost:8080/"
        },
        "id": "NwTK-RFal-gU",
        "outputId": "241af6a4-50ff-4387-da8e-f19ec1f2f7da"
      },
      "execution_count": 96,
      "outputs": [
        {
          "output_type": "execute_result",
          "data": {
            "text/plain": [
              "2"
            ]
          },
          "metadata": {},
          "execution_count": 96
        }
      ]
    },
    {
      "cell_type": "code",
      "source": [
        "arr2[:][1]"
      ],
      "metadata": {
        "colab": {
          "base_uri": "https://localhost:8080/"
        },
        "id": "Z2DZSJ-0mBWm",
        "outputId": "f460f61a-a049-4c36-88fe-df3b6c0e3156"
      },
      "execution_count": 97,
      "outputs": [
        {
          "output_type": "execute_result",
          "data": {
            "text/plain": [
              "array([4, 5, 6])"
            ]
          },
          "metadata": {},
          "execution_count": 97
        }
      ]
    },
    {
      "cell_type": "code",
      "source": [
        "# 필터 선택\n",
        "\n",
        "arr = np.array([1,3,2,5,4,8])\n",
        "print(arr)"
      ],
      "metadata": {
        "colab": {
          "base_uri": "https://localhost:8080/"
        },
        "id": "sUKs83lpmJ1S",
        "outputId": "ad013d85-f1b1-4761-d45b-702c214e83af"
      },
      "execution_count": 98,
      "outputs": [
        {
          "output_type": "stream",
          "name": "stdout",
          "text": [
            "[1 3 2 5 4 8]\n"
          ]
        }
      ]
    },
    {
      "cell_type": "code",
      "source": [
        "filter = arr%2==0\n",
        "print(filter) # 2로 나눴을때 0인지 판별 하는 법"
      ],
      "metadata": {
        "colab": {
          "base_uri": "https://localhost:8080/"
        },
        "id": "nBqGQOSomU-D",
        "outputId": "18b2dbfe-ca42-4796-ebb4-50063db2047d"
      },
      "execution_count": 99,
      "outputs": [
        {
          "output_type": "stream",
          "name": "stdout",
          "text": [
            "[False False  True False  True  True]\n"
          ]
        }
      ]
    },
    {
      "cell_type": "code",
      "source": [
        "even_arr = arr[filter] # true false인 배열 개체들을 변수에 넣어서\n",
        "even_arr # 조건에 해당하는 원소들로만 추출 된다"
      ],
      "metadata": {
        "colab": {
          "base_uri": "https://localhost:8080/"
        },
        "id": "veE93jPEmecA",
        "outputId": "207e643e-0392-478a-ee93-9aedd76df7ac"
      },
      "execution_count": 100,
      "outputs": [
        {
          "output_type": "execute_result",
          "data": {
            "text/plain": [
              "array([2, 4, 8])"
            ]
          },
          "metadata": {},
          "execution_count": 100
        }
      ]
    },
    {
      "cell_type": "markdown",
      "source": [
        "# 구조 변경"
      ],
      "metadata": {
        "id": "L9KHVbQpm5og"
      }
    },
    {
      "cell_type": "code",
      "source": [
        "arrr = np.arange(7*2*5)\n",
        "print(arr)"
      ],
      "metadata": {
        "colab": {
          "base_uri": "https://localhost:8080/"
        },
        "id": "tkLBYtoImoHL",
        "outputId": "e0944c80-168f-4407-804f-b6acf9eccd4f"
      },
      "execution_count": 120,
      "outputs": [
        {
          "output_type": "stream",
          "name": "stdout",
          "text": [
            "[17 50 43  8 21]\n"
          ]
        }
      ]
    },
    {
      "cell_type": "code",
      "source": [
        "print(arrr.shape)"
      ],
      "metadata": {
        "colab": {
          "base_uri": "https://localhost:8080/"
        },
        "id": "6ocEZUTQnLKM",
        "outputId": "84d43a3f-46fd-4126-fefc-bff2d806821f"
      },
      "execution_count": 121,
      "outputs": [
        {
          "output_type": "stream",
          "name": "stdout",
          "text": [
            "(70,)\n"
          ]
        }
      ]
    },
    {
      "cell_type": "code",
      "source": [
        "arrr = arrr.reshape((7,-2)) # -1을 넣음으로써 자동으로 계산 할 수 있게 해준다?? -1은 자동으로 계산에서 원소 갯수를 나눠준다?\n",
        "print(arrr.shape)"
      ],
      "metadata": {
        "colab": {
          "base_uri": "https://localhost:8080/"
        },
        "id": "qcqtJG34nOE-",
        "outputId": "1d0bac6e-9be0-4a23-bb43-4263f508fe28"
      },
      "execution_count": 125,
      "outputs": [
        {
          "output_type": "stream",
          "name": "stdout",
          "text": [
            "(7, 10)\n"
          ]
        }
      ]
    },
    {
      "cell_type": "code",
      "source": [
        "print(arrr)"
      ],
      "metadata": {
        "colab": {
          "base_uri": "https://localhost:8080/"
        },
        "id": "5zhThz5NnW0Q",
        "outputId": "6d89a051-40b5-4542-f48c-3827e8bb0249"
      },
      "execution_count": 129,
      "outputs": [
        {
          "output_type": "stream",
          "name": "stdout",
          "text": [
            "[[ 0  1  2  3  4  5  6  7  8  9]\n",
            " [10 11 12 13 14 15 16 17 18 19]\n",
            " [20 21 22 23 24 25 26 27 28 29]\n",
            " [30 31 32 33 34 35 36 37 38 39]\n",
            " [40 41 42 43 44 45 46 47 48 49]\n",
            " [50 51 52 53 54 55 56 57 58 59]\n",
            " [60 61 62 63 64 65 66 67 68 69]]\n"
          ]
        }
      ]
    },
    {
      "cell_type": "code",
      "source": [
        "arrr = arrr.reshape((7,-1,5)) \n",
        "print(arrr.shape)\n",
        "print(arrr)"
      ],
      "metadata": {
        "colab": {
          "base_uri": "https://localhost:8080/"
        },
        "id": "412rTIVRnjOn",
        "outputId": "8d888c29-ca22-4b53-c775-eddf1d4210d8"
      },
      "execution_count": 138,
      "outputs": [
        {
          "output_type": "stream",
          "name": "stdout",
          "text": [
            "(7, 2, 5)\n",
            "[[[ 0  1  2  3  4]\n",
            "  [ 5  6  7  8  9]]\n",
            "\n",
            " [[10 11 12 13 14]\n",
            "  [15 16 17 18 19]]\n",
            "\n",
            " [[20 21 22 23 24]\n",
            "  [25 26 27 28 29]]\n",
            "\n",
            " [[30 31 32 33 34]\n",
            "  [35 36 37 38 39]]\n",
            "\n",
            " [[40 41 42 43 44]\n",
            "  [45 46 47 48 49]]\n",
            "\n",
            " [[50 51 52 53 54]\n",
            "  [55 56 57 58 59]]\n",
            "\n",
            " [[60 61 62 63 64]\n",
            "  [65 66 67 68 69]]]\n"
          ]
        }
      ]
    },
    {
      "cell_type": "code",
      "source": [
        "# arr3 = arr.reshape((7,-1,6)) 원하는 구조로 만들지 못할 때 ValueError 발생 "
      ],
      "metadata": {
        "id": "864l-jBwpLOQ"
      },
      "execution_count": null,
      "outputs": []
    },
    {
      "cell_type": "markdown",
      "source": [
        "# 전치 "
      ],
      "metadata": {
        "id": "C-m52gsNpfFf"
      }
    },
    {
      "cell_type": "code",
      "source": [
        "arr = np.array([[1,2,3],[4,5,6]])\n",
        "print(arr)"
      ],
      "metadata": {
        "colab": {
          "base_uri": "https://localhost:8080/"
        },
        "id": "7YFYF8i5pgf2",
        "outputId": "6079b709-84ac-46c7-aab6-1d20c4c3778e"
      },
      "execution_count": 113,
      "outputs": [
        {
          "output_type": "stream",
          "name": "stdout",
          "text": [
            "[[1 2 3]\n",
            " [4 5 6]]\n"
          ]
        }
      ]
    },
    {
      "cell_type": "code",
      "source": [
        "arr2 = arr.T  # Transform 시켜 주는 느낌\n",
        "print(arr2)"
      ],
      "metadata": {
        "colab": {
          "base_uri": "https://localhost:8080/"
        },
        "id": "UakjxJ2ippQb",
        "outputId": "a318a345-9f93-4b89-e485-7723ef6c24c8"
      },
      "execution_count": 114,
      "outputs": [
        {
          "output_type": "stream",
          "name": "stdout",
          "text": [
            "[[1 4]\n",
            " [2 5]\n",
            " [3 6]]\n"
          ]
        }
      ]
    },
    {
      "cell_type": "code",
      "source": [
        "arr3 = arr.transpose()\n",
        "print(arr3)"
      ],
      "metadata": {
        "colab": {
          "base_uri": "https://localhost:8080/"
        },
        "id": "Ok5I5wKgpVLu",
        "outputId": "74dbaa57-cd89-4096-ee67-a92acb3f7b03"
      },
      "execution_count": 117,
      "outputs": [
        {
          "output_type": "stream",
          "name": "stdout",
          "text": [
            "[[1 4]\n",
            " [2 5]\n",
            " [3 6]]\n"
          ]
        }
      ]
    },
    {
      "cell_type": "code",
      "source": [
        "arr = np.random.randint(0,100,5)\n",
        "print(arr)"
      ],
      "metadata": {
        "colab": {
          "base_uri": "https://localhost:8080/"
        },
        "id": "72FgsTZ8qlvp",
        "outputId": "46dffd19-e554-4656-a7a9-d8e628309845"
      },
      "execution_count": 119,
      "outputs": [
        {
          "output_type": "stream",
          "name": "stdout",
          "text": [
            "[17 50 43  8 21]\n"
          ]
        }
      ]
    },
    {
      "cell_type": "code",
      "source": [
        "arr2 = np.sqrt(arr)\n",
        "print(arr2)  # 루트 취하는것"
      ],
      "metadata": {
        "colab": {
          "base_uri": "https://localhost:8080/"
        },
        "id": "ivBo4jluq3mJ",
        "outputId": "4a0519df-4ffd-4b3e-81fc-947606e93191"
      },
      "execution_count": 126,
      "outputs": [
        {
          "output_type": "stream",
          "name": "stdout",
          "text": [
            "[4.12310563 7.07106781 6.55743852 2.82842712 4.58257569]\n"
          ]
        }
      ]
    },
    {
      "cell_type": "code",
      "source": [
        "arr3 = np.random.randint(0,100,5)\n",
        "print(arr3)"
      ],
      "metadata": {
        "colab": {
          "base_uri": "https://localhost:8080/"
        },
        "id": "4wD8vEUTq_Vy",
        "outputId": "22f80af5-9ce0-479b-a62d-db08280f68c4"
      },
      "execution_count": 127,
      "outputs": [
        {
          "output_type": "stream",
          "name": "stdout",
          "text": [
            "[58 80 90  4 58]\n"
          ]
        }
      ]
    },
    {
      "cell_type": "code",
      "source": [
        "arr4 = np.maximum(arr,arr3)\n",
        "print(arr4)"
      ],
      "metadata": {
        "colab": {
          "base_uri": "https://localhost:8080/"
        },
        "id": "BuSPwl0LrEuO",
        "outputId": "543b071e-3d6c-44a4-c551-de3a9b5f3326"
      },
      "execution_count": 128,
      "outputs": [
        {
          "output_type": "stream",
          "name": "stdout",
          "text": [
            "[58 80 90  8 58]\n"
          ]
        }
      ]
    },
    {
      "cell_type": "markdown",
      "source": [
        "# 정규분포 맛보기(numpy 아님)"
      ],
      "metadata": {
        "id": "SInqdcSJ_nkj"
      }
    },
    {
      "cell_type": "code",
      "source": [
        "import math\n",
        "SQRT_TWO_PI = math.sqrt(2*math.pi) #루트 2파이\n",
        "def normal_pdf(x,mu=0,sigma=1):  #정규분포(mu: 평균, sigma:표준편차)\n",
        "  pre = 1/(sigma*SQRT_TWO_PI)\n",
        "  post = math.exp(-((x-mu)**2)/(2*(sigma**2)))\n",
        "  return pre*post\n"
      ],
      "metadata": {
        "id": "cGCW8VOv_liK"
      },
      "execution_count": 139,
      "outputs": []
    },
    {
      "cell_type": "code",
      "source": [
        "xs = [x/10.0 for x in range(-50,50)] # ~5에서 5까지 step 0.1로 리스트 구성\n",
        "ys1 = [normal_pdf(x) for x in xs] # 표준 정규 분포\n",
        "ys2 = [normal_pdf(x,mu=1) for x in xs] # 정규 분포, 평균 :1, 표준편차:1\n",
        "ys3 = [normal_pdf(x,sigma=2) for x in xs] #정규분포, 평균:0 표준편차:2\n",
        "ys4 = [normal_pdf(x,sigma=0.5) for x in xs] # 정규분포, 평균0, 표준편차 : 0.5\n",
        "\n",
        "plt.plot(xs,ys1,'-',label='mu=0,sigma=1')\n",
        "plt.plot(xs,ys2,'--',label='mu=1,sigma=1')\n",
        "plt.plot(xs,ys3,':',label='mu=0,sigma=2')\n",
        "plt.plot(xs,ys4,'-',label='mu=0,sigma=0.5')\n",
        "plt.legend()  # 그래프에서 그래프들 단위 나타나게 해줌\n",
        "plt.show()\n"
      ],
      "metadata": {
        "colab": {
          "base_uri": "https://localhost:8080/",
          "height": 265
        },
        "id": "pnsTv1_tBDYa",
        "outputId": "7824c181-ae46-4ff3-b8a6-dd535d940fa7"
      },
      "execution_count": 142,
      "outputs": [
        {
          "output_type": "display_data",
          "data": {
            "text/plain": [
              "<Figure size 432x288 with 1 Axes>"
            ],
            "image/png": "[encoded data removed]"
          },
          "metadata": {
            "needs_background": "light"
          }
        }
      ]
    },
    {
      "cell_type": "code",
      "source": [
        "import random\n",
        "def bernoulli_trial(p):\n",
        "  return 1 if random.random()<p else 0"
      ],
      "metadata": {
        "id": "f9hXe786Crlr"
      },
      "execution_count": 143,
      "outputs": []
    },
    {
      "cell_type": "code",
      "source": [
        "dc_ts=[]\n",
        "for _ in range(1000):\n",
        "  dc_ts.append(bernoulli_trial(1/6))\n",
        "print(dc_ts)\n",
        "print(sum(dc_ts))\n",
        "# 랜덤이기 때문에 정확하게 딱 맞아 떨어 지지 않지만 시행하는 횟수가 크면 클수록 점점 딱 맞아 떨어짐"
      ],
      "metadata": {
        "colab": {
          "base_uri": "https://localhost:8080/"
        },
        "id": "GS-7-54QDovg",
        "outputId": "cdd74386-6de1-4ede-ef65-f8a5ace75e24"
      },
      "execution_count": 145,
      "outputs": [
        {
          "output_type": "stream",
          "name": "stdout",
          "text": [
            "[0, 0, 0, 0, 0, 1, 0, 0, 0, 1, 0, 0, 0, 0, 1, 0, 0, 0, 0, 0, 1, 0, 1, 0, 0, 0, 0, 0, 0, 0, 0, 0, 1, 0, 0, 0, 0, 0, 0, 0, 1, 0, 0, 0, 1, 0, 0, 1, 1, 0, 1, 0, 0, 0, 0, 0, 0, 0, 1, 0, 0, 0, 1, 1, 0, 0, 0, 0, 0, 0, 0, 0, 0, 0, 0, 1, 0, 0, 0, 1, 0, 0, 0, 0, 0, 1, 0, 0, 1, 0, 0, 0, 1, 0, 0, 1, 0, 0, 0, 0, 0, 0, 1, 0, 0, 0, 0, 0, 0, 0, 0, 0, 1, 0, 0, 1, 0, 1, 0, 0, 0, 1, 0, 0, 0, 0, 1, 0, 0, 0, 1, 0, 0, 0, 0, 1, 0, 1, 1, 1, 0, 0, 0, 0, 0, 0, 0, 1, 0, 0, 0, 0, 0, 0, 1, 0, 0, 0, 0, 0, 0, 0, 0, 0, 0, 0, 1, 0, 0, 0, 0, 0, 0, 1, 1, 0, 0, 0, 1, 0, 1, 0, 0, 0, 0, 0, 0, 0, 0, 0, 0, 0, 1, 0, 0, 0, 0, 1, 0, 0, 0, 0, 0, 0, 0, 1, 1, 0, 0, 0, 0, 0, 0, 0, 0, 0, 0, 0, 0, 0, 1, 0, 0, 0, 0, 0, 0, 0, 0, 0, 0, 1, 0, 0, 0, 0, 0, 0, 0, 0, 0, 0, 0, 1, 1, 0, 0, 0, 1, 1, 0, 1, 0, 0, 0, 1, 0, 1, 0, 0, 0, 0, 1, 0, 0, 0, 0, 0, 0, 0, 0, 1, 0, 0, 0, 0, 0, 0, 0, 0, 0, 0, 0, 0, 0, 0, 0, 0, 0, 0, 0, 0, 0, 1, 0, 1, 0, 0, 0, 0, 1, 0, 1, 1, 0, 0, 1, 0, 1, 1, 0, 0, 1, 1, 0, 0, 0, 0, 0, 0, 0, 1, 0, 1, 0, 0, 0, 0, 0, 0, 0, 0, 0, 0, 1, 0, 0, 0, 1, 0, 0, 0, 0, 0, 0, 0, 0, 0, 0, 0, 0, 0, 0, 0, 1, 1, 0, 1, 1, 0, 0, 0, 0, 0, 1, 0, 0, 0, 0, 0, 1, 0, 0, 0, 1, 0, 0, 0, 0, 0, 0, 0, 0, 0, 0, 0, 0, 0, 0, 0, 0, 0, 0, 0, 0, 1, 0, 0, 0, 0, 1, 0, 0, 1, 0, 0, 0, 1, 0, 0, 1, 1, 0, 0, 0, 0, 0, 0, 0, 0, 0, 0, 0, 0, 1, 0, 0, 0, 0, 0, 0, 0, 0, 0, 0, 1, 0, 0, 0, 0, 0, 0, 0, 0, 0, 0, 0, 0, 0, 0, 0, 0, 0, 0, 0, 0, 0, 0, 1, 1, 0, 0, 0, 0, 0, 0, 0, 1, 0, 1, 0, 0, 0, 0, 0, 0, 1, 0, 0, 1, 0, 0, 0, 1, 0, 0, 0, 0, 0, 0, 0, 0, 1, 0, 0, 0, 0, 0, 0, 0, 0, 1, 0, 0, 1, 0, 0, 0, 1, 0, 1, 0, 0, 0, 1, 0, 0, 0, 0, 0, 0, 0, 0, 0, 0, 0, 0, 0, 0, 0, 0, 0, 0, 1, 0, 0, 0, 1, 1, 1, 1, 0, 0, 0, 0, 0, 0, 0, 0, 0, 0, 0, 0, 0, 1, 0, 0, 0, 0, 0, 0, 0, 0, 0, 0, 0, 0, 1, 1, 0, 0, 0, 0, 1, 0, 1, 0, 1, 1, 0, 0, 0, 1, 0, 0, 0, 0, 1, 0, 0, 0, 0, 0, 0, 1, 0, 1, 1, 1, 0, 0, 1, 0, 1, 0, 0, 1, 0, 0, 0, 0, 1, 0, 1, 0, 0, 0, 0, 0, 0, 0, 0, 1, 0, 0, 1, 0, 0, 0, 0, 0, 0, 0, 0, 0, 1, 0, 0, 0, 0, 0, 0, 0, 0, 0, 0, 0, 0, 0, 0, 1, 0, 0, 0, 1, 0, 0, 0, 0, 0, 0, 1, 0, 1, 1, 1, 0, 0, 0, 0, 0, 1, 0, 0, 1, 0, 1, 0, 0, 0, 0, 0, 1, 0, 0, 0, 0, 1, 0, 1, 0, 0, 0, 0, 1, 0, 1, 0, 0, 0, 0, 1, 0, 1, 0, 0, 0, 0, 0, 0, 1, 0, 0, 0, 0, 0, 0, 1, 0, 0, 1, 0, 0, 0, 0, 0, 1, 1, 0, 0, 0, 0, 0, 0, 0, 0, 0, 0, 0, 0, 1, 1, 0, 0, 0, 1, 0, 0, 1, 0, 0, 0, 0, 0, 0, 1, 0, 0, 0, 0, 0, 0, 0, 0, 1, 0, 0, 0, 0, 1, 0, 0, 0, 0, 0, 0, 0, 0, 0, 0, 0, 0, 0, 0, 0, 0, 0, 1, 0, 0, 0, 1, 0, 0, 0, 0, 0, 0, 0, 0, 0, 0, 1, 0, 0, 0, 0, 0, 0, 0, 0, 1, 0, 0, 1, 0, 0, 1, 1, 0, 0, 0, 1, 0, 0, 0, 1, 1, 0, 1, 0, 0, 0, 0, 0, 0, 0, 0, 0, 0, 0, 1, 0, 1, 0, 1, 0, 0, 0, 0, 1, 0, 1, 0, 0, 0, 0, 0, 1, 0, 1, 0, 1, 0, 0, 0, 0, 0, 0, 0, 0, 0, 0, 0, 1, 0, 0, 0, 0, 0, 0, 0, 0, 1, 0, 1, 0, 1, 0, 0, 0, 1, 0, 0, 0, 1, 1, 1, 0, 0, 0, 0, 0, 0, 0, 1, 0, 1, 0, 1, 0, 0, 0, 0, 0, 0, 0, 0, 0, 0, 0, 0, 0, 0, 0, 1, 1, 0, 0, 1, 0, 1, 0, 0, 0, 0, 0, 0, 1, 0, 0, 0, 0, 0, 1, 0, 0, 0, 1, 1, 1, 0, 1, 0, 1, 0, 0, 0, 0, 1, 0, 0, 0, 0, 0, 0, 0, 1, 0, 0, 0, 0, 1, 1, 0, 0, 0, 0, 0, 0, 0, 0, 0, 1, 0, 0, 0, 0, 1, 0, 0, 0, 1, 1, 0, 0, 0, 0, 1, 1]\n",
            "200\n"
          ]
        }
      ]
    },
    {
      "cell_type": "code",
      "source": [
        "def draw_dice(n,p):\n",
        "  return sum(bernoulli_trial(1/6) for _ in range(n))"
      ],
      "metadata": {
        "id": "mruDA2wjEOpY"
      },
      "execution_count": 147,
      "outputs": []
    },
    {
      "cell_type": "code",
      "source": [
        "print(draw_dice(10000,1/6))"
      ],
      "metadata": {
        "colab": {
          "base_uri": "https://localhost:8080/"
        },
        "id": "VyePjhAzEffT",
        "outputId": "35a577e3-d673-4433-ad0c-d76618c875c8"
      },
      "execution_count": 151,
      "outputs": [
        {
          "output_type": "stream",
          "name": "stdout",
          "text": [
            "1619\n"
          ]
        }
      ]
    },
    {
      "cell_type": "code",
      "source": [
        "for _ in range(100):\n",
        "  print(draw_dice(1000,1/6),end=\" \")"
      ],
      "metadata": {
        "colab": {
          "base_uri": "https://localhost:8080/"
        },
        "id": "cJoUY4J9EsVI",
        "outputId": "a033fc88-b282-440b-fb00-a8b3875b8ffe"
      },
      "execution_count": 155,
      "outputs": [
        {
          "output_type": "stream",
          "name": "stdout",
          "text": [
            "171 156 146 147 185 161 140 174 195 181 162 167 159 180 171 155 173 184 157 162 146 168 162 165 173 169 177 149 162 170 183 157 167 158 146 164 166 150 188 164 185 199 172 165 171 151 180 156 165 166 154 160 163 154 187 168 164 174 178 172 162 170 172 173 187 187 153 183 164 140 167 154 153 161 158 176 163 179 169 173 165 183 151 163 150 158 177 155 179 166 178 173 167 176 156 158 168 170 188 176 "
          ]
        }
      ]
    },
    {
      "cell_type": "code",
      "source": [
        "from collections import Counter"
      ],
      "metadata": {
        "id": "M7Tr_485E-dg"
      },
      "execution_count": 157,
      "outputs": []
    },
    {
      "cell_type": "code",
      "source": [
        "# 카운터 함수란, 도수가 몇번있는지 테스트 가능\n",
        "sample_data = [1,2,3,2,1,2,1,2,3,4,5,4,2,3,1]\n",
        "h = Counter(sample_data)\n",
        "print(h)"
      ],
      "metadata": {
        "colab": {
          "base_uri": "https://localhost:8080/"
        },
        "id": "j8H__5CMFj2i",
        "outputId": "098f019a-f3e4-47b6-9b9d-a4bea468f5f6"
      },
      "execution_count": 158,
      "outputs": [
        {
          "output_type": "stream",
          "name": "stdout",
          "text": [
            "Counter({2: 5, 1: 4, 3: 3, 4: 2, 5: 1})\n"
          ]
        }
      ]
    },
    {
      "cell_type": "code",
      "source": [
        "def binominal_hist(p,n,nps): #p:확률 , n:시도 횟수 nps(p,n)을 시도한 횟수\n",
        "  data = [draw_dice(n,p) for _ in range(nps)]\n",
        "  histogram = Counter(data) \n",
        "  # p*n은 기댓값 여기선 mu라고 한다 1000*1/6\n",
        "  mu = p*n  # 평균 or 기댓값\n",
        "  sigma = math.sqrt(n*p*(1-p)) # 표준편차, 시그마\n",
        "  xs = range(min(data),max(data)+1)\n",
        "  ys = [normal_pdf(i,mu,sigma) for i in xs]\n",
        "  plt.bar(histogram.keys(),[v/nps for v in histogram.values()])\n",
        "  plt.plot(xs,ys,color='r')\n",
        "  plt.show()"
      ],
      "metadata": {
        "id": "8pbE4PPKFGOD"
      },
      "execution_count": 159,
      "outputs": []
    },
    {
      "cell_type": "code",
      "source": [
        "binominal_hist(1/6,100,10)#1/6확률(주사위 던지기),100번 시행 10번 기록"
      ],
      "metadata": {
        "colab": {
          "base_uri": "https://localhost:8080/",
          "height": 265
        },
        "id": "C-zgxffpGVu3",
        "outputId": "b505fcdb-9161-407e-fa21-d0a97cd59279"
      },
      "execution_count": 160,
      "outputs": [
        {
          "output_type": "display_data",
          "data": {
            "text/plain": [
              "<Figure size 432x288 with 1 Axes>"
            ],
            "image/png": "[encoded data removed]"
          },
          "metadata": {
            "needs_background": "light"
          }
        }
      ]
    },
    {
      "cell_type": "code",
      "source": [
        "binominal_hist(1/6,100,500) #1/6확률(주사위 던지기),100번 시행 500번 기록 ,막대는 random으로 만들어진 그래프,\n",
        "# 빨간색은 공식에 의해 만들어진 정규분포 곡선\n"
      ],
      "metadata": {
        "colab": {
          "base_uri": "https://localhost:8080/",
          "height": 265
        },
        "id": "U9J83evZIBOG",
        "outputId": "81bcc410-0fea-4678-a4fd-c744d6562a1e"
      },
      "execution_count": 161,
      "outputs": [
        {
          "output_type": "display_data",
          "data": {
            "text/plain": [
              "<Figure size 432x288 with 1 Axes>"
            ],
            "image/png": "[encoded data removed]"
          },
          "metadata": {
            "needs_background": "light"
          }
        }
      ]
    },
    {
      "cell_type": "markdown",
      "source": [
        "# numpy 활용 예 - 영상처리"
      ],
      "metadata": {
        "id": "o_cE89awL1zA"
      }
    },
    {
      "cell_type": "code",
      "source": [
        "import cv2 #OpenCV 라이브러리\n",
        "from google.colab.patches import cv2_imshow #cv2.imshow 는 자기 컴퓨터 내에서 호출 하지만 현재는 가상 시스템 내에서 하는것 이기 때문에"
      ],
      "metadata": {
        "id": "WkqXiwGtL1JH"
      },
      "execution_count": 162,
      "outputs": []
    },
    {
      "cell_type": "code",
      "source": [
        "path = \"/content/MountTest/다운로드.jpg\"\n",
        "image = cv2.imread(path,cv2.IMREAD_COLOR)\n",
        "cv2_imshow(image)"
      ],
      "metadata": {
        "colab": {
          "base_uri": "https://localhost:8080/",
          "height": 268
        },
        "id": "EyrOwRgxMLac",
        "outputId": "92a909cb-a29c-4abb-d903-55f467208175"
      },
      "execution_count": 195,
      "outputs": [
        {
          "output_type": "display_data",
          "data": {
            "text/plain": [
              "<PIL.Image.Image image mode=RGB size=201x251 at 0x7FD866F000D0>"
            ],
            "image/png": "[encoded data removed]"
          },
          "metadata": {}
        }
      ]
    },
    {
      "cell_type": "code",
      "source": [
        "image[:,:,0] = 255\n",
        "cv2_imshow(image)"
      ],
      "metadata": {
        "colab": {
          "base_uri": "https://localhost:8080/",
          "height": 268
        },
        "id": "DHNYUsADN4yL",
        "outputId": "48726bfb-4ca7-4134-ae7f-2d2e8aaecdfd"
      },
      "execution_count": 167,
      "outputs": [
        {
          "output_type": "display_data",
          "data": {
            "text/plain": [
              "<PIL.Image.Image image mode=RGB size=201x251 at 0x7FD8E88D25D0>"
            ],
            "image/png": "[encoded data removed]"
          },
          "metadata": {}
        }
      ]
    },
    {
      "cell_type": "code",
      "source": [
        "print(type(image)) "
      ],
      "metadata": {
        "colab": {
          "base_uri": "https://localhost:8080/"
        },
        "id": "D3xLC1KtWcvl",
        "outputId": "1e980387-fe89-4e50-ee2d-38ac06803e10"
      },
      "execution_count": 196,
      "outputs": [
        {
          "output_type": "stream",
          "name": "stdout",
          "text": [
            "<class 'numpy.ndarray'>\n"
          ]
        }
      ]
    },
    {
      "cell_type": "code",
      "source": [
        "print(image.ndim)"
      ],
      "metadata": {
        "colab": {
          "base_uri": "https://localhost:8080/"
        },
        "id": "ixWc8PFdWdOJ",
        "outputId": "d75f4222-daee-4821-acd5-5da851e7b58d"
      },
      "execution_count": 254,
      "outputs": [
        {
          "output_type": "stream",
          "name": "stdout",
          "text": [
            "3\n"
          ]
        }
      ]
    },
    {
      "cell_type": "code",
      "source": [
        "print(image.shape)"
      ],
      "metadata": {
        "colab": {
          "base_uri": "https://localhost:8080/"
        },
        "id": "xEELm-XPrfah",
        "outputId": "bf2b8c5a-5a74-4cc9-db2b-700461150adf"
      },
      "execution_count": 255,
      "outputs": [
        {
          "output_type": "stream",
          "name": "stdout",
          "text": [
            "(251, 201, 3)\n"
          ]
        }
      ]
    },
    {
      "cell_type": "code",
      "source": [
        "image = np.zeros((28,28,3),np.uint8)"
      ],
      "metadata": {
        "id": "v_OQbeB7rjJK"
      },
      "execution_count": 256,
      "outputs": []
    },
    {
      "cell_type": "code",
      "source": [
        "cv2_imshow(image)"
      ],
      "metadata": {
        "colab": {
          "base_uri": "https://localhost:8080/",
          "height": 45
        },
        "id": "gomhUCSbWdhw",
        "outputId": "e9c85e2b-68b0-4275-fe5d-6b551abebf7b"
      },
      "execution_count": 257,
      "outputs": [
        {
          "output_type": "display_data",
          "data": {
            "text/plain": [
              "<PIL.Image.Image image mode=RGB size=28x28 at 0x7FD866EC4550>"
            ],
            "image/png": "[encoded data removed]"
          },
          "metadata": {}
        }
      ]
    },
    {
      "cell_type": "code",
      "source": [
        "from tensorflow import keras # 손글씨 관련 ?"
      ],
      "metadata": {
        "id": "DE-4UewbOvNl"
      },
      "execution_count": 168,
      "outputs": []
    },
    {
      "cell_type": "code",
      "source": [
        "data = keras.datasets.mnist.load_data()"
      ],
      "metadata": {
        "colab": {
          "base_uri": "https://localhost:8080/"
        },
        "id": "sgRk_WL0PgcH",
        "outputId": "320bf703-28e9-42ab-90f9-07fb2aabc1f1"
      },
      "execution_count": 169,
      "outputs": [
        {
          "output_type": "stream",
          "name": "stdout",
          "text": [
            "Downloading data from https://storage.googleapis.com/tensorflow/tf-keras-datasets/mnist.npz\n",
            "11493376/11490434 [==============================] - 0s 0us/step\n",
            "11501568/11490434 [==============================] - 0s 0us/step\n"
          ]
        }
      ]
    },
    {
      "cell_type": "code",
      "source": [
        "print(type(data))\n",
        "print(len(data))"
      ],
      "metadata": {
        "colab": {
          "base_uri": "https://localhost:8080/"
        },
        "id": "W_W-blLHPmsS",
        "outputId": "acdf8d82-185a-4aaf-f984-287657d9917b"
      },
      "execution_count": 170,
      "outputs": [
        {
          "output_type": "stream",
          "name": "stdout",
          "text": [
            "2\n"
          ]
        }
      ]
    },
    {
      "cell_type": "code",
      "source": [
        "train_data, test_data = data\n",
        "print(type(train_data))\n",
        "print(len(train_data))\n",
        "print(type(test_data))\n",
        "print(type(test_data))"
      ],
      "metadata": {
        "colab": {
          "base_uri": "https://localhost:8080/"
        },
        "id": "v76myqcUPqJJ",
        "outputId": "6fc9b105-eec7-4def-c1ec-537b8a17a0b0"
      },
      "execution_count": 171,
      "outputs": [
        {
          "output_type": "stream",
          "name": "stdout",
          "text": [
            "<class 'tuple'>\n",
            "2\n",
            "<class 'tuple'>\n",
            "<class 'tuple'>\n"
          ]
        }
      ]
    },
    {
      "cell_type": "code",
      "source": [
        "x_train, y_train= train_data\n",
        "x_test, y_test = test_data\n",
        "print(type(x_train), type(y_train))\n",
        "print(type(x_test),type(y_test))  # 안정화된 데이터를 사용할때 numpy배열을 사용하고 있다"
      ],
      "metadata": {
        "colab": {
          "base_uri": "https://localhost:8080/"
        },
        "id": "InEDfTzzP58P",
        "outputId": "aceda082-b7de-46f5-b834-70998c824d4a"
      },
      "execution_count": 172,
      "outputs": [
        {
          "output_type": "stream",
          "name": "stdout",
          "text": [
            "<class 'numpy.ndarray'> <class 'numpy.ndarray'>\n",
            "<class 'numpy.ndarray'> <class 'numpy.ndarray'>\n"
          ]
        }
      ]
    },
    {
      "cell_type": "code",
      "source": [
        "print(x_train.shape, y_train.shape)\n",
        "print(x_test.shape, y_test.shape)"
      ],
      "metadata": {
        "colab": {
          "base_uri": "https://localhost:8080/"
        },
        "id": "d8kDcrtvQLPu",
        "outputId": "dba0f464-1fc1-4d5a-880e-c0e7c03b7937"
      },
      "execution_count": 173,
      "outputs": [
        {
          "output_type": "stream",
          "name": "stdout",
          "text": [
            "(60000, 28, 28) (60000,)\n",
            "(10000, 28, 28) (10000,)\n"
          ]
        }
      ]
    },
    {
      "cell_type": "code",
      "source": [
        "for i in range(10):\n",
        "  image = x_train[i]\n",
        "  print(y_train[i])\n",
        "  cv2_imshow(image) # 영상 이미지 자체가 넘파이 배열로 되어 있다."
      ],
      "metadata": {
        "colab": {
          "base_uri": "https://localhost:8080/",
          "height": 481
        },
        "id": "6y8XnfJeQoB0",
        "outputId": "9db19db2-6b7f-4f5a-9f2e-e5365ad6813a"
      },
      "execution_count": 176,
      "outputs": [
        {
          "output_type": "stream",
          "name": "stdout",
          "text": [
            "5\n"
          ]
        },
        {
          "output_type": "display_data",
          "data": {
            "text/plain": [
              "<PIL.Image.Image image mode=L size=28x28 at 0x7FD8E851B850>"
            ],
            "image/png": "[encoded data removed]"
          },
          "metadata": {}
        },
        {
          "output_type": "stream",
          "name": "stdout",
          "text": [
            "0\n"
          ]
        },
        {
          "output_type": "display_data",
          "data": {
            "text/plain": [
              "<PIL.Image.Image image mode=L size=28x28 at 0x7FD8673E9C10>"
            ],
            "image/png": "[encoded data removed]"
          },
          "metadata": {}
        },
        {
          "output_type": "stream",
          "name": "stdout",
          "text": [
            "4\n"
          ]
        },
        {
          "output_type": "display_data",
          "data": {
            "text/plain": [
              "<PIL.Image.Image image mode=L size=28x28 at 0x7FD86740EC90>"
            ],
            "image/png": "[encoded data removed]"
          },
          "metadata": {}
        },
        {
          "output_type": "stream",
          "name": "stdout",
          "text": [
            "1\n"
          ]
        },
        {
          "output_type": "display_data",
          "data": {
            "text/plain": [
              "<PIL.Image.Image image mode=L size=28x28 at 0x7FD8673E9D10>"
            ],
            "image/png": "[encoded data removed]"
          },
          "metadata": {}
        },
        {
          "output_type": "stream",
          "name": "stdout",
          "text": [
            "9\n"
          ]
        },
        {
          "output_type": "display_data",
          "data": {
            "text/plain": [
              "<PIL.Image.Image image mode=L size=28x28 at 0x7FD88024EE90>"
            ],
            "image/png": "[encoded data removed]"
          },
          "metadata": {}
        },
        {
          "output_type": "stream",
          "name": "stdout",
          "text": [
            "2\n"
          ]
        },
        {
          "output_type": "display_data",
          "data": {
            "text/plain": [
              "<PIL.Image.Image image mode=L size=28x28 at 0x7FD8E858F210>"
            ],
            "image/png": "[encoded data removed]"
          },
          "metadata": {}
        },
        {
          "output_type": "stream",
          "name": "stdout",
          "text": [
            "1\n"
          ]
        },
        {
          "output_type": "display_data",
          "data": {
            "text/plain": [
              "<PIL.Image.Image image mode=L size=28x28 at 0x7FD8E9173BD0>"
            ],
            "image/png": "[encoded data removed]"
          },
          "metadata": {}
        },
        {
          "output_type": "stream",
          "name": "stdout",
          "text": [
            "3\n"
          ]
        },
        {
          "output_type": "display_data",
          "data": {
            "text/plain": [
              "<PIL.Image.Image image mode=L size=28x28 at 0x7FD8E91190D0>"
            ],
            "image/png": "[encoded data removed]"
          },
          "metadata": {}
        },
        {
          "output_type": "stream",
          "name": "stdout",
          "text": [
            "1\n"
          ]
        },
        {
          "output_type": "display_data",
          "data": {
            "text/plain": [
              "<PIL.Image.Image image mode=L size=28x28 at 0x7FD866F02C50>"
            ],
            "image/png": "[encoded data removed]"
          },
          "metadata": {}
        },
        {
          "output_type": "stream",
          "name": "stdout",
          "text": [
            "4\n"
          ]
        },
        {
          "output_type": "display_data",
          "data": {
            "text/plain": [
              "<PIL.Image.Image image mode=L size=28x28 at 0x7FD866F02CD0>"
            ],
            "image/png": "[encoded data removed]"
          },
          "metadata": {}
        }
      ]
    },
    {
      "cell_type": "code",
      "source": [
        "arr = np.random.randint(5,100,20)\n",
        "print(arr)"
      ],
      "metadata": {
        "colab": {
          "base_uri": "https://localhost:8080/"
        },
        "id": "zI3C3sIeSC7z",
        "outputId": "daf8fa5a-455d-4b51-b256-68783cb7af8f"
      },
      "execution_count": 177,
      "outputs": [
        {
          "output_type": "stream",
          "name": "stdout",
          "text": [
            "[80 77 63 97 75 89 89 98 22 19 14  8 71 82 62 96 67 97 26 17]\n"
          ]
        }
      ]
    },
    {
      "cell_type": "code",
      "source": [
        "arr2 = arr.reshape(4,-1) # (4,5)\n",
        "print(arr2)"
      ],
      "metadata": {
        "colab": {
          "base_uri": "https://localhost:8080/"
        },
        "id": "JqV9Ht4NSIOH",
        "outputId": "990876b9-f5ec-4263-a47c-6e8be6271142"
      },
      "execution_count": 181,
      "outputs": [
        {
          "output_type": "stream",
          "name": "stdout",
          "text": [
            "[[80 77 63 97 75]\n",
            " [89 89 98 22 19]\n",
            " [14  8 71 82 62]\n",
            " [96 67 97 26 17]]\n"
          ]
        }
      ]
    },
    {
      "cell_type": "code",
      "source": [
        "print(\"평균\",arr2.mean())"
      ],
      "metadata": {
        "colab": {
          "base_uri": "https://localhost:8080/"
        },
        "id": "7qtSMtw6STtT",
        "outputId": "f627a03b-14d3-4a04-93f1-6bb01b4f7841"
      },
      "execution_count": 182,
      "outputs": [
        {
          "output_type": "stream",
          "name": "stdout",
          "text": [
            "평균 62.45\n"
          ]
        }
      ]
    },
    {
      "cell_type": "code",
      "source": [
        "print('평균(축1):',arr2.mean(axis=1))  # 컬럼 축\n",
        "print('평균(축0):',arr2.mean(axis=0))  # 로우 축"
      ],
      "metadata": {
        "colab": {
          "base_uri": "https://localhost:8080/"
        },
        "id": "uEJfEb0VSjxk",
        "outputId": "22bd5028-df2d-4b06-8add-532640f9a0ce"
      },
      "execution_count": 185,
      "outputs": [
        {
          "output_type": "stream",
          "name": "stdout",
          "text": [
            "평균(축1): [78.4 63.4 47.4 60.6]\n",
            "평균(축0): [69.75 60.25 82.25 56.75 43.25]\n"
          ]
        }
      ]
    },
    {
      "cell_type": "code",
      "source": [
        "print(\"합계:\",arr.sum())\n",
        "print('합계(축1):',arr2.sum(axis=1))  # 컬럼 축\n",
        "print('합계(축0):',arr2.sum(axis=0))  # 로우 축"
      ],
      "metadata": {
        "colab": {
          "base_uri": "https://localhost:8080/"
        },
        "id": "5ZDtlzfwS9_a",
        "outputId": "28d126d5-e38a-4e86-e4dd-6341957914ba"
      },
      "execution_count": 186,
      "outputs": [
        {
          "output_type": "stream",
          "name": "stdout",
          "text": [
            "합계: 1249\n",
            "합계(축1): [392 317 237 303]\n",
            "합계(축0): [279 241 329 227 173]\n"
          ]
        }
      ]
    },
    {
      "cell_type": "code",
      "source": [
        "print('표준편차:',arr2.std())  # 컬럼 축\n",
        "print(\"분산:\",arr2.var())  \n",
        "print(\"최소:\",arr2.min())\n",
        "print(\"최대:\",arr2.max())   "
      ],
      "metadata": {
        "colab": {
          "base_uri": "https://localhost:8080/"
        },
        "id": "zwrrK1acTP0E",
        "outputId": "6bfbb1f3-6514-4c66-ed5f-3097472463ed"
      },
      "execution_count": 187,
      "outputs": [
        {
          "output_type": "stream",
          "name": "stdout",
          "text": [
            "표준편차: 31.281743877220144\n",
            "분산: 978.5474999999999\n",
            "분산: 8\n",
            "분산: 98\n"
          ]
        }
      ]
    },
    {
      "cell_type": "code",
      "source": [
        "arr = np.array([1,3,2,4,56,5,-2,3])\n",
        "print(\"최댓값 인덱스\",arr.argmax())\n",
        "print(\"최댓값 인덱스\",arr.argmin()) #min 최소"
      ],
      "metadata": {
        "colab": {
          "base_uri": "https://localhost:8080/"
        },
        "id": "sGW-BaCmTrwu",
        "outputId": "582a3299-4005-434b-fcd5-5835d6bb5901"
      },
      "execution_count": 189,
      "outputs": [
        {
          "output_type": "stream",
          "name": "stdout",
          "text": [
            "최댓값 인덱스 4\n"
          ]
        }
      ]
    },
    {
      "cell_type": "code",
      "source": [
        "arr = np.array([1,2,3,2,4,5])\n",
        "cs = arr.cumsum()\n",
        "print(cs)  # 누적합"
      ],
      "metadata": {
        "colab": {
          "base_uri": "https://localhost:8080/"
        },
        "id": "vDnPiPR_T965",
        "outputId": "2751f95e-f6f1-4e0a-c646-5b4b8b00e00f"
      },
      "execution_count": 190,
      "outputs": [
        {
          "output_type": "stream",
          "name": "stdout",
          "text": [
            "[ 1  3  6  8 12 17]\n"
          ]
        }
      ]
    },
    {
      "cell_type": "code",
      "source": [
        "arr.sort()\n",
        "print(arr) # sort는 자기 자신이 바뀌는 메소드"
      ],
      "metadata": {
        "colab": {
          "base_uri": "https://localhost:8080/"
        },
        "id": "9JoV_2KnTojX",
        "outputId": "bde51083-3abc-4015-bd1a-9f5e542cac75"
      },
      "execution_count": 191,
      "outputs": [
        {
          "output_type": "stream",
          "name": "stdout",
          "text": [
            "[1 2 2 3 4 5]\n"
          ]
        }
      ]
    },
    {
      "cell_type": "code",
      "source": [
        "arr = [1,2,34,2,2,4,23,2,3,2,4,1,1,2,1] # unique 집합 찾아내는것 arr이 구성하는 원소 집합이 무엇인지 알아 낼 수 있다\n",
        "sa = np.unique(arr)\n",
        "print(sa)"
      ],
      "metadata": {
        "colab": {
          "base_uri": "https://localhost:8080/"
        },
        "id": "KRmd_l8jUT9t",
        "outputId": "858c09a4-8584-4639-be91-37bae770d2fa"
      },
      "execution_count": 192,
      "outputs": [
        {
          "output_type": "stream",
          "name": "stdout",
          "text": [
            "[ 1  2  3  4 23 34]\n"
          ]
        }
      ]
    },
    {
      "cell_type": "code",
      "source": [
        "s = {1,2,3,2,1,2,3,2,1,2}\n",
        "print(s)"
      ],
      "metadata": {
        "colab": {
          "base_uri": "https://localhost:8080/"
        },
        "id": "croEHqNAU8ty",
        "outputId": "ff5ba616-9310-4fe9-b9b4-b7a68c74e7a3"
      },
      "execution_count": 193,
      "outputs": [
        {
          "output_type": "stream",
          "name": "stdout",
          "text": [
            "{1, 2, 3}\n"
          ]
        }
      ]
    },
    {
      "cell_type": "code",
      "source": [
        "# 선형 대수 - inside numpy\n",
        "def add_list(ls1, ls2):\n",
        "  re=[]\n",
        "  assert len(ls1)==len(ls2), \"두개의 리스트 원소 개수는 같아야 합니다.\"\n",
        "  for i,e in enumerate(ls1):\n",
        "    re.append(ls1[i]+ls2[i])\n",
        "  return re"
      ],
      "metadata": {
        "id": "pNFnWv6GU0mj"
      },
      "execution_count": 199,
      "outputs": []
    },
    {
      "cell_type": "code",
      "source": [
        "def add_list2(ls1,ls2):\n",
        "  assert len(ls1)==len(ls2), \"두 개의 리스트 원소 개수는 같아야 합니다.\"\n",
        "  return [ls1[i] + ls2[i] for i in range(len(ls1))]"
      ],
      "metadata": {
        "id": "e5PWtTQKbUDw"
      },
      "execution_count": 201,
      "outputs": []
    },
    {
      "cell_type": "code",
      "source": [
        "re = add_list([1,2,3],[4,6,7])\n",
        "print(re)"
      ],
      "metadata": {
        "colab": {
          "base_uri": "https://localhost:8080/"
        },
        "id": "lYkX9r-2bCLA",
        "outputId": "70af1efe-0ca7-455a-cbfc-d644994f18be"
      },
      "execution_count": 202,
      "outputs": [
        {
          "output_type": "stream",
          "name": "stdout",
          "text": [
            "[5, 8, 10]\n"
          ]
        }
      ]
    },
    {
      "cell_type": "code",
      "source": [
        "import sys\n",
        "print(sys.path)"
      ],
      "metadata": {
        "colab": {
          "base_uri": "https://localhost:8080/"
        },
        "id": "mc3yCnk_cwgs",
        "outputId": "ecd5aa9f-c5c8-4946-b10e-f7d80b8fa83e"
      },
      "execution_count": 204,
      "outputs": [
        {
          "output_type": "stream",
          "name": "stdout",
          "text": [
            "['', '/content', '/env/python', '/usr/lib/python37.zip', '/usr/lib/python3.7', '/usr/lib/python3.7/lib-dynload', '/usr/local/lib/python3.7/dist-packages', '/usr/lib/python3/dist-packages', '/usr/local/lib/python3.7/dist-packages/IPython/extensions', '/root/.ipython']\n"
          ]
        }
      ]
    },
    {
      "cell_type": "code",
      "source": [
        "import test"
      ],
      "metadata": {
        "id": "DBYfB3hlc7CA"
      },
      "execution_count": 261,
      "outputs": []
    },
    {
      "cell_type": "code",
      "source": [
        "def subtract(ls1,ls2):\n",
        "  assert len(ls1)==len(ls2), \"두 개의 리스트 원소 개수는 같아야 합니다.\"\n",
        "  return [ls1[i] - ls2[i] for i in range(len(ls1))]"
      ],
      "metadata": {
        "id": "YkA4f5zVdO5o"
      },
      "execution_count": 210,
      "outputs": []
    },
    {
      "cell_type": "code",
      "source": [
        "assert subtract([4,2,8],[1,3,5]) == [3,-1,3]"
      ],
      "metadata": {
        "id": "YBVG5gM_dvwV"
      },
      "execution_count": 211,
      "outputs": []
    },
    {
      "cell_type": "code",
      "source": [
        "def scalar_multiuply(ls1,num):\n",
        "  return[num*ls1[i] for i in range(len(ls1))]"
      ],
      "metadata": {
        "id": "LKwtjSMoeF7O"
      },
      "execution_count": 212,
      "outputs": []
    },
    {
      "cell_type": "code",
      "source": [
        "assert scalar_multiuply([2,3,4],3)==[6,9,12]"
      ],
      "metadata": {
        "id": "9P3wAhYTeTxT"
      },
      "execution_count": 213,
      "outputs": []
    },
    {
      "cell_type": "code",
      "source": [
        "arr1 = [[1,2],[3,4]]\n",
        "arr2 = [[2,3],[1,2]]\n",
        "re = np.dot(arr1,arr2)\n",
        "print(re)"
      ],
      "metadata": {
        "colab": {
          "base_uri": "https://localhost:8080/"
        },
        "id": "-R3t54SBeb5p",
        "outputId": "ebcb522b-c90a-4134-b51f-8601e82eda6f"
      },
      "execution_count": 214,
      "outputs": [
        {
          "output_type": "stream",
          "name": "stdout",
          "text": [
            "[[ 4  7]\n",
            " [10 17]]\n"
          ]
        }
      ]
    },
    {
      "cell_type": "code",
      "source": [
        "def dot(ls1,ls2):\n",
        "  return sum(v_i*w_i for v_i,w_i in zip(ls1,ls2))"
      ],
      "metadata": {
        "id": "cT4Sp_AwezHo"
      },
      "execution_count": 215,
      "outputs": []
    },
    {
      "cell_type": "code",
      "source": [
        "print(dot([1,2,3],[4,5,6]))"
      ],
      "metadata": {
        "colab": {
          "base_uri": "https://localhost:8080/"
        },
        "id": "3AA_rVuXfJC8",
        "outputId": "a104a261-a557-4cb1-f67c-f872b05441da"
      },
      "execution_count": 216,
      "outputs": [
        {
          "output_type": "stream",
          "name": "stdout",
          "text": [
            "32\n"
          ]
        }
      ]
    },
    {
      "cell_type": "code",
      "source": [
        "np.dot(np.array([1,2,3]),np.array([4,5,6]))"
      ],
      "metadata": {
        "colab": {
          "base_uri": "https://localhost:8080/"
        },
        "id": "k6z8xJ4_fPeC",
        "outputId": "aab5f0cf-eb83-4cfe-b7b6-c8184b3726c1"
      },
      "execution_count": 221,
      "outputs": [
        {
          "output_type": "execute_result",
          "data": {
            "text/plain": [
              "32"
            ]
          },
          "metadata": {},
          "execution_count": 221
        }
      ]
    },
    {
      "cell_type": "code",
      "source": [
        "arr = np.diag((3,3,1,3,5,7))\n",
        "print(arr)\n",
        "# 행렬의 원소에 비교적 0이 많은 행렬. 비제로 요소의 수가 적은 행렬. "
      ],
      "metadata": {
        "colab": {
          "base_uri": "https://localhost:8080/"
        },
        "id": "o4FgytG1gPbi",
        "outputId": "701ee85d-2c53-4969-f557-cb18e0b451c2"
      },
      "execution_count": 223,
      "outputs": [
        {
          "output_type": "stream",
          "name": "stdout",
          "text": [
            "[[3 0 0 0 0 0]\n",
            " [0 3 0 0 0 0]\n",
            " [0 0 1 0 0 0]\n",
            " [0 0 0 3 0 0]\n",
            " [0 0 0 0 5 0]\n",
            " [0 0 0 0 0 7]]\n"
          ]
        }
      ]
    },
    {
      "cell_type": "code",
      "source": [
        "for _ in range(10):\n",
        "  print(np.random.rand()) # 0에서 1사이에 있는 랜덤한 값 반환"
      ],
      "metadata": {
        "colab": {
          "base_uri": "https://localhost:8080/"
        },
        "id": "rmo84mITgiMQ",
        "outputId": "53e145db-854f-43a9-868a-542aa20f1ede"
      },
      "execution_count": 224,
      "outputs": [
        {
          "output_type": "stream",
          "name": "stdout",
          "text": [
            "0.13922297097198333\n",
            "0.6091077931154324\n",
            "0.8345090080530893\n",
            "0.2395024445080688\n",
            "0.10288358954112409\n",
            "0.3312107684176302\n",
            "0.43239593344891647\n",
            "0.46313908005788373\n",
            "0.4121245508889113\n",
            "0.21352943982851147\n"
          ]
        }
      ]
    },
    {
      "cell_type": "code",
      "source": [
        "for _ in range(10):\n",
        "  print(np.random.random(size=3)) # 디폴트 값은 같지만 위에거와 다르게 size라는 파라미터를 따로 줄 수 있다."
      ],
      "metadata": {
        "colab": {
          "base_uri": "https://localhost:8080/"
        },
        "id": "xDAqPk7fhVfU",
        "outputId": "41c96cd8-3c40-4123-aef9-6c01337f3e51"
      },
      "execution_count": 226,
      "outputs": [
        {
          "output_type": "stream",
          "name": "stdout",
          "text": [
            "[0.54454329 0.38013863 0.70802731]\n",
            "[0.71237877 0.4586563  0.87075972]\n",
            "[0.09786112 0.12353743 0.99883012]\n",
            "[0.82834435 0.7827261  0.93837147]\n",
            "[0.44078168 0.49824997 0.51086784]\n",
            "[0.33404651 0.64941063 0.81327205]\n",
            "[0.97512983 0.99987893 0.56863284]\n",
            "[0.60489118 0.76321432 0.45162022]\n",
            "[0.87923957 0.15177244 0.30205291]\n",
            "[0.89797283 0.63982612 0.73149838]\n"
          ]
        }
      ]
    },
    {
      "cell_type": "code",
      "source": [
        "for _ in range(10):\n",
        "  print(np.random.uniform(-2,3))  # -2에서 3사이에서 실수 랜덤한 값을 만들어 주는 함수"
      ],
      "metadata": {
        "colab": {
          "base_uri": "https://localhost:8080/"
        },
        "id": "-SNNcEBjhueC",
        "outputId": "f4613904-753f-4a73-ca03-e555a170881f"
      },
      "execution_count": 227,
      "outputs": [
        {
          "output_type": "stream",
          "name": "stdout",
          "text": [
            "0.19063965028139673\n",
            "-1.3214004742170242\n",
            "-0.29189029312567616\n",
            "0.5966028356460042\n",
            "2.8619485126481585\n",
            "0.08467322955329726\n",
            "-1.6758646341143066\n",
            "-0.9675964936628993\n",
            "1.310303889943481\n",
            "-0.13534444170468607\n"
          ]
        }
      ]
    },
    {
      "cell_type": "code",
      "source": [
        "for _ in range(10):\n",
        "  print(np.random.randint(10,100),end = ' ')\n",
        "  print(np.random.randint(1,7),end = ' ') # ex 주사위"
      ],
      "metadata": {
        "colab": {
          "base_uri": "https://localhost:8080/"
        },
        "id": "bxZHeVGbiEPr",
        "outputId": "aff7d7f4-4eb3-4295-8916-a50502cec48f"
      },
      "execution_count": 236,
      "outputs": [
        {
          "output_type": "stream",
          "name": "stdout",
          "text": [
            "67 5 22 2 89 5 86 5 40 4 52 3 94 2 84 6 81 5 44 6 "
          ]
        }
      ]
    },
    {
      "cell_type": "code",
      "source": [
        "for _ in range(20):\n",
        "  print(np.random.choice([1,3,2,8]),end = ' ') # 후보 중에서 랜덤으로 불러오는것"
      ],
      "metadata": {
        "colab": {
          "base_uri": "https://localhost:8080/"
        },
        "id": "0brXtNVPizbc",
        "outputId": "c2080927-b442-49ed-de24-f439bd55b2c2"
      },
      "execution_count": 239,
      "outputs": [
        {
          "output_type": "stream",
          "name": "stdout",
          "text": [
            "8 1 3 8 3 8 2 1 3 3 2 1 3 2 2 2 2 1 8 8 "
          ]
        }
      ]
    },
    {
      "cell_type": "code",
      "source": [
        "for _ in range(10):\n",
        "  print(np.random.seed([1,2,3,8]))"
      ],
      "metadata": {
        "colab": {
          "base_uri": "https://localhost:8080/"
        },
        "id": "TCDifwDPjjB_",
        "outputId": "5fad6a31-abcb-46e1-cdae-0e84bfcbc1af"
      },
      "execution_count": 240,
      "outputs": [
        {
          "output_type": "stream",
          "name": "stdout",
          "text": [
            "None\n",
            "None\n",
            "None\n",
            "None\n",
            "None\n",
            "None\n",
            "None\n",
            "None\n",
            "None\n",
            "None\n"
          ]
        }
      ]
    },
    {
      "cell_type": "code",
      "source": [
        "a = [1,3,4,5,6,8]\n",
        "np.random.shuffle(a)\n",
        "print(a)\n",
        "# shffle 은 원본을 바꿉니다"
      ],
      "metadata": {
        "colab": {
          "base_uri": "https://localhost:8080/"
        },
        "id": "uNIjDYsXjyzI",
        "outputId": "67aa847e-34fb-44cf-92cf-5c1c5e8e1de7"
      },
      "execution_count": 246,
      "outputs": [
        {
          "output_type": "stream",
          "name": "stdout",
          "text": [
            "[3, 8, 6, 1, 4, 5]\n"
          ]
        }
      ]
    },
    {
      "cell_type": "code",
      "source": [
        "a = [1,3,4,5,6,8]\n",
        "np.random.permutation(a)\n",
        "print(a)\n",
        "#중요한 차이점은 permutation 은 array를 복사하여 리턴한다는 것 입니다. 즉 원본은 유지가 된다"
      ],
      "metadata": {
        "colab": {
          "base_uri": "https://localhost:8080/"
        },
        "id": "_xBkMAIylC05",
        "outputId": "761e9d31-44cc-4933-c833-c6d82928c68c"
      },
      "execution_count": 251,
      "outputs": [
        {
          "output_type": "stream",
          "name": "stdout",
          "text": [
            "[1, 3, 4, 5, 6, 8]\n"
          ]
        }
      ]
    },
    {
      "cell_type": "code",
      "source": [
        "x1 = np.random.seed(2)\n",
        "x1 = np.random.randn(3,4)\n",
        "x2 = np.random.randn(2,3)\n",
        "print(x1)\n",
        "print(x2)"
      ],
      "metadata": {
        "colab": {
          "base_uri": "https://localhost:8080/"
        },
        "id": "RiIFzpEJk6aq",
        "outputId": "952979b1-f85e-4428-f5e6-9f1576df2dc2"
      },
      "execution_count": 253,
      "outputs": [
        {
          "output_type": "stream",
          "name": "stdout",
          "text": [
            "[[-0.41675785 -0.05626683 -2.1361961   1.64027081]\n",
            " [-1.79343559 -0.84174737  0.50288142 -1.24528809]\n",
            " [-1.05795222 -0.90900761  0.55145404  2.29220801]]\n",
            "[[ 0.04153939 -1.11792545  0.53905832]\n",
            " [-0.5961597  -0.0191305   1.17500122]]\n"
          ]
        }
      ]
    },
    {
      "cell_type": "code",
      "source": [
        "import test\n",
        "print(re)"
      ],
      "metadata": {
        "colab": {
          "base_uri": "https://localhost:8080/"
        },
        "id": "gww5Pt_5mK_A",
        "outputId": "ddf491bc-52fd-4ec2-b965-594bad9c7df9"
      },
      "execution_count": 265,
      "outputs": [
        {
          "output_type": "stream",
          "name": "stdout",
          "text": [
            "5\n"
          ]
        }
      ]
    }
  ]
}
{
  "nbformat": 4,
  "nbformat_minor": 0,
  "metadata": {
    "colab": {
      "name": "분석시각화4일차.ipynb",
      "provenance": [],
      "authorship_tag": "ABX9TyOiE/OEbS8a08xC97n4VO2c",
      "include_colab_link": true
    },
    "kernelspec": {
      "name": "python3",
      "display_name": "Python 3"
    },
    "language_info": {
      "name": "python"
    }
  },
  "cells": [
    {
      "cell_type": "markdown",
      "metadata": {
        "id": "view-in-github",
        "colab_type": "text"
      },
      "source": [
        "<a href=\"https://colab.research.google.com/github/beomseokwee/pythonBigData/blob/main/%EB%B6%84%EC%84%9D%EC%8B%9C%EA%B0%81%ED%99%944%EC%9D%BC%EC%B0%A8.ipynb\" target=\"_parent\"><img src=\"https://colab.research.google.com/assets/colab-badge.svg\" alt=\"Open In Colab\"/></a>"
      ]
    },
    {
      "cell_type": "markdown",
      "source": [
        "# plot\n",
        "\n",
        "plot([x], y, [fmt], *, data=None, **kwargs)\n",
        "plot([x], y, [fmt], [x2], y2, [fmt2], ..., **kwargs)"
      ],
      "metadata": {
        "id": "FgSRNrQacaPC"
      }
    },
    {
      "cell_type": "code",
      "source": [
        "import matplotlib.pyplot as plt\n",
        "import pandas as pd\n",
        "import numpy as np\n",
        "heights = np.random.normal(161.4,7,200)# 키는 161.4 ,표준편차 = 7, 표본 개수 200 생성\n",
        "bmi = np.random.normal(23,1,200) # 체질량 지수 23, 표준 편차 1, 표본 개수 200 생성\n",
        "weights = bmi*(heights**2)/10000 # 몸무게 , 제곱으로 단위를 맞춰준다?\n",
        "# hist,_ = np.histogram(heights,bins=[x for x in range(0,250,5)])\n",
        "# mi = hist.argmax() # 제일 큰값이 있는 인덱스\n",
        "# print(\"최빈구간 : \",mi*5+2.5)\n",
        "plt.hist(heights,bins=200) #★ 자료값을 시각화안하고 뽑아낸 수치(데이터)\n",
        "plt.show()\n"
      ],
      "metadata": {
        "colab": {
          "base_uri": "https://localhost:8080/",
          "height": 265
        },
        "id": "5a2qh5cAhioi",
        "outputId": "2d724e0d-0619-4630-a30f-5b4e97dfe582"
      },
      "execution_count": null,
      "outputs": [
        {
          "output_type": "display_data",
          "data": {
            "text/plain": [
              "<Figure size 432x288 with 1 Axes>"
            ],
            "image/png": "[encoded data removed]"
          },
          "metadata": {
            "needs_background": "light"
          }
        }
      ]
    },
    {
      "cell_type": "code",
      "source": [
        "import matplotlib.pyplot as plt\n",
        "plt.figure(figsize=(4,3))\n",
        "plt.plot([1,2],[1,1],'.',label='1 .')\n",
        "plt.plot([1,2],[2,2],'o',label='2 o') \n",
        "plt.plot([1,2],[3,3],'*',label='3 *')  \n",
        "plt.title(\"marker\")\n",
        "plt.legend(loc = 'upper center')\n",
        "plt.show() # 최소한 y값은 와야한다"
      ],
      "metadata": {
        "colab": {
          "base_uri": "https://localhost:8080/",
          "height": 227
        },
        "id": "95uJ7TMFcgfK",
        "outputId": "205f3b30-44e9-4b54-ce84-8749b9c376df"
      },
      "execution_count": null,
      "outputs": [
        {
          "output_type": "display_data",
          "data": {
            "text/plain": [
              "<Figure size 288x216 with 1 Axes>"
            ],
            "image/png": "[encoded data removed]"
          },
          "metadata": {
            "needs_background": "light"
          }
        }
      ]
    },
    {
      "cell_type": "code",
      "source": [
        "plt.figure(figsize=(4,3))\n",
        "plt.plot([1,2],[1,1],'.--r',label='1 .--r')\n",
        "plt.plot([1,2],[2,2],'o--b',label='2 o--b') \n",
        "plt.plot([1,2],[3,3],'*-.m',label='3 *--.m')  \n",
        "plt.title(\"marker and line style\")\n",
        "plt.legend(loc = 'upper center')\n",
        "plt.show() # 최소한 y값은 와야한다"
      ],
      "metadata": {
        "colab": {
          "base_uri": "https://localhost:8080/",
          "height": 227
        },
        "id": "60xSKtAUglA4",
        "outputId": "d6e33939-e312-4c63-e5e9-f5f5f8282413"
      },
      "execution_count": null,
      "outputs": [
        {
          "output_type": "display_data",
          "data": {
            "text/plain": [
              "<Figure size 288x216 with 1 Axes>"
            ],
            "image/png": "[encoded data removed]"
          },
          "metadata": {
            "needs_background": "light"
          }
        }
      ]
    },
    {
      "cell_type": "markdown",
      "source": [
        "fmt = '[marker][line][color]'\n",
        "marker 점의 위치에 표시할 도형\n",
        "\n",
        "line 점과 점 사이의 연결 선 형태\n",
        "\n",
        "color 색상"
      ],
      "metadata": {
        "id": "h1Y898UTfk23"
      }
    },
    {
      "cell_type": "code",
      "source": [
        "plt.figure(figsize=(4,3))\n",
        "plt.plot([1,2],[1,1],'.-',color = 'purple', label='1 .--r')\n",
        "plt.plot([1,2],[2,2],'o--',color = '#7F7F00',label='2 o--b') \n",
        "plt.plot([1,2],[3,3],'*-.',color = 'r',label='3 *--.m')  \n",
        "plt.title(\"use color option\")\n",
        "plt.legend(loc = 'upper center')\n",
        "plt.show() # 최소한 y값은 와야한다"
      ],
      "metadata": {
        "colab": {
          "base_uri": "https://localhost:8080/",
          "height": 227
        },
        "id": "nsNv3CYlhuUL",
        "outputId": "5465eaa6-7e15-48dd-c16b-fded39080e52"
      },
      "execution_count": null,
      "outputs": [
        {
          "output_type": "display_data",
          "data": {
            "text/plain": [
              "<Figure size 288x216 with 1 Axes>"
            ],
            "image/png": "[encoded data removed]"
          },
          "metadata": {
            "needs_background": "light"
          }
        }
      ]
    },
    {
      "cell_type": "code",
      "source": [
        "plt.figure(figsize=(5,3))\n",
        "xs = [x/10 for x in range(-50,50)]#-5~5 step:0.1\n",
        "ys = [2*x**2+3 for x in xs] #y = 2xx+3\n",
        "plt.plot(xs,ys,label='y=2xx+3')\n",
        "plt.xlim(-10,10)\n",
        "plt.ylim(0,50)\n",
        "plt.vlines(0,0,50,color='green')\n",
        "plt.legend(loc='upper left')\n",
        "plt.show()"
      ],
      "metadata": {
        "colab": {
          "base_uri": "https://localhost:8080/",
          "height": 215
        },
        "id": "2cPTmkq9ppwS",
        "outputId": "dff19ae5-4299-466e-f7f0-03b37a47295c"
      },
      "execution_count": null,
      "outputs": [
        {
          "output_type": "display_data",
          "data": {
            "text/plain": [
              "<Figure size 360x216 with 1 Axes>"
            ],
            "image/png": "[encoded data removed]"
          },
          "metadata": {
            "needs_background": "light"
          }
        }
      ]
    },
    {
      "cell_type": "code",
      "source": [
        "plt.figure(figsize=(6,6))\n",
        "xs = [x/10 for x in range(-50,50)]#-5~5 step:0.1\n",
        "ys = [2*x**2+3 for x in xs] #y = 2xx+3\n",
        "ys2 = [2*x+1 for x in xs] \n",
        "ys3 = [2*x**2+1 for x in xs] \n",
        "plt.plot(xs,ys,'.',label='y=2xx+3')\n",
        "plt.plot(xs,ys2,'-',label='y=2x+1')\n",
        "plt.plot(xs,ys3,'--',label='y=2xx2+1')\n",
        "plt.xlim(-25,25)\n",
        "plt.ylim(0,50)\n",
        "plt.vlines(0,0,50,color='green')\n",
        "plt.legend(loc='upper left')\n",
        "plt.show()"
      ],
      "metadata": {
        "colab": {
          "base_uri": "https://localhost:8080/",
          "height": 378
        },
        "id": "u_i9tSnQrmXG",
        "outputId": "8eadffd6-6e7a-47b8-f514-d7c198343d37"
      },
      "execution_count": null,
      "outputs": [
        {
          "output_type": "display_data",
          "data": {
            "text/plain": [
              "<Figure size 432x432 with 1 Axes>"
            ],
            "image/png": "[encoded data removed]"
          },
          "metadata": {
            "needs_background": "light"
          }
        }
      ]
    },
    {
      "cell_type": "code",
      "source": [
        "plt.plot(xs,ys) # 디폴트 figure(figure(1)에 그려줌)\n",
        "plt.figure(2) # 이번에 기름을 그릴 figure를 선택\n",
        "plt.plot(xs,ys2)\n",
        "plt.figure(3)\n",
        "plt.plot(xs,ys3)\n",
        "plt.show()\n",
        "\n"
      ],
      "metadata": {
        "colab": {
          "base_uri": "https://localhost:8080/",
          "height": 761
        },
        "id": "HvL2WCh_s8ZF",
        "outputId": "73334f55-fd80-4cd0-c51b-28bd6e875d3e"
      },
      "execution_count": null,
      "outputs": [
        {
          "output_type": "display_data",
          "data": {
            "text/plain": [
              "<Figure size 432x288 with 1 Axes>"
            ],
            "image/png": "[encoded data removed]"
          },
          "metadata": {
            "needs_background": "light"
          }
        },
        {
          "output_type": "display_data",
          "data": {
            "text/plain": [
              "<Figure size 432x288 with 1 Axes>"
            ],
            "image/png": "[encoded data removed]"
          },
          "metadata": {
            "needs_background": "light"
          }
        },
        {
          "output_type": "display_data",
          "data": {
            "text/plain": [
              "<Figure size 432x288 with 1 Axes>"
            ],
            "image/png": "[encoded data removed]"
          },
          "metadata": {
            "needs_background": "light"
          }
        }
      ]
    },
    {
      "cell_type": "code",
      "source": [
        "\n",
        "ax = plt.subplot(2,2,1)\n",
        "ax.set_title(\"um\")\n",
        "plt.plot(xs,ys)\n",
        "plt.subplot(2,2,2)\n",
        "plt.plot(xs,ys2)\n",
        "plt.subplot(2,2,3)\n",
        "plt.plot(xs,ys3)\n",
        "plt.subplot(2,2,4)\n",
        "plt.plot(xs,ys)"
      ],
      "metadata": {
        "colab": {
          "base_uri": "https://localhost:8080/",
          "height": 299
        },
        "id": "rq8OHGkAtlfx",
        "outputId": "114b6171-4845-4a9b-851f-93b90f747f9e"
      },
      "execution_count": null,
      "outputs": [
        {
          "output_type": "execute_result",
          "data": {
            "text/plain": [
              "[<matplotlib.lines.Line2D at 0x7ff9612569d0>]"
            ]
          },
          "metadata": {},
          "execution_count": 69
        },
        {
          "output_type": "display_data",
          "data": {
            "text/plain": [
              "<Figure size 432x288 with 4 Axes>"
            ],
            "image/png": "[encoded data removed]"
          },
          "metadata": {
            "needs_background": "light"
          }
        }
      ]
    },
    {
      "cell_type": "code",
      "source": [
        "plt.figure(figsize=(2.5,2.5))\n",
        "plt.bar(['a','b','c'],[80,90,75])\n",
        "plt.show()"
      ],
      "metadata": {
        "colab": {
          "base_uri": "https://localhost:8080/",
          "height": 184
        },
        "id": "uz6DVjRkvWrV",
        "outputId": "bd9cad37-9cbb-44bc-aec9-fe11351134c0"
      },
      "execution_count": null,
      "outputs": [
        {
          "output_type": "display_data",
          "data": {
            "text/plain": [
              "<Figure size 180x180 with 1 Axes>"
            ],
            "image/png": "[encoded data removed]"
          },
          "metadata": {
            "needs_background": "light"
          }
        }
      ]
    },
    {
      "cell_type": "markdown",
      "source": [
        "!sudo"
      ],
      "metadata": {
        "id": "I3KIVxC5watR"
      }
    },
    {
      "cell_type": "code",
      "source": [
        "!sudo apt get install -y fonts-nanum  # 폰트 나눔이라는걸 가지고 와서 설치\n",
        "!sudo fc-cache -fv\n",
        "!rm ~/ .cache/matplotlib -rf"
      ],
      "metadata": {
        "id": "_FePY9UPwviy",
        "colab": {
          "base_uri": "https://localhost:8080/"
        },
        "outputId": "4c620aac-6267-490f-be64-82d51a8986d9"
      },
      "execution_count": null,
      "outputs": [
        {
          "output_type": "stream",
          "name": "stdout",
          "text": [
            "E: Invalid operation get\n",
            "/usr/share/fonts: caching, new cache contents: 0 fonts, 1 dirs\n",
            "/usr/share/fonts/truetype: caching, new cache contents: 0 fonts, 2 dirs\n",
            "/usr/share/fonts/truetype/humor-sans: caching, new cache contents: 1 fonts, 0 dirs\n",
            "/usr/share/fonts/truetype/liberation: caching, new cache contents: 16 fonts, 0 dirs\n",
            "/usr/local/share/fonts: caching, new cache contents: 0 fonts, 0 dirs\n",
            "/root/.local/share/fonts: skipping, no such directory\n",
            "/root/.fonts: skipping, no such directory\n",
            "/var/cache/fontconfig: cleaning cache directory\n",
            "/root/.cache/fontconfig: not cleaning non-existent cache directory\n",
            "/root/.fontconfig: not cleaning non-existent cache directory\n",
            "fc-cache: succeeded\n"
          ]
        }
      ]
    },
    {
      "cell_type": "code",
      "source": [
        "import matplotlib.pyplot as plt\n",
        "plt.rc('font', family='NanumBarunGothic') # window"
      ],
      "metadata": {
        "id": "pOA8b3vIxP9o"
      },
      "execution_count": null,
      "outputs": []
    },
    {
      "cell_type": "code",
      "source": [
        "plt.figure(figsize=(2.5,2.5))\n",
        "city =['서울','인천','Daejon','Daegu','Ulsan','Pusan','Kwangju']\n",
        "\n",
        "lat = [37.56, 37.45, 36.35, 35.87, 35.53, 35.18, 35.16]\n",
        "lon = [126.97, 126.70, 127.38,128.60,129.31,129.07,126.85]\n",
        "pop_den = [16154,2751,2839,2790,1099,4454,2995] #1000명 단위\n",
        "plt.bar(city,pop_den)\n",
        "plt.show()"
      ],
      "metadata": {
        "colab": {
          "base_uri": "https://localhost:8080/",
          "height": 496
        },
        "id": "GrC-b6h2v6hj",
        "outputId": "5c10a3e8-ddb2-437d-b079-caab43a2234c"
      },
      "execution_count": null,
      "outputs": [
        {
          "output_type": "stream",
          "name": "stderr",
          "text": [
            "/usr/local/lib/python3.7/dist-packages/matplotlib/backends/backend_agg.py:214: RuntimeWarning: Glyph 49436 missing from current font.\n",
            "  font.set_text(s, 0.0, flags=flags)\n",
            "/usr/local/lib/python3.7/dist-packages/matplotlib/backends/backend_agg.py:214: RuntimeWarning: Glyph 50872 missing from current font.\n",
            "  font.set_text(s, 0.0, flags=flags)\n",
            "/usr/local/lib/python3.7/dist-packages/matplotlib/backends/backend_agg.py:214: RuntimeWarning: Glyph 51064 missing from current font.\n",
            "  font.set_text(s, 0.0, flags=flags)\n",
            "/usr/local/lib/python3.7/dist-packages/matplotlib/backends/backend_agg.py:214: RuntimeWarning: Glyph 52380 missing from current font.\n",
            "  font.set_text(s, 0.0, flags=flags)\n",
            "/usr/local/lib/python3.7/dist-packages/matplotlib/backends/backend_agg.py:183: RuntimeWarning: Glyph 49436 missing from current font.\n",
            "  font.set_text(s, 0, flags=flags)\n",
            "/usr/local/lib/python3.7/dist-packages/matplotlib/backends/backend_agg.py:183: RuntimeWarning: Glyph 50872 missing from current font.\n",
            "  font.set_text(s, 0, flags=flags)\n",
            "/usr/local/lib/python3.7/dist-packages/matplotlib/backends/backend_agg.py:183: RuntimeWarning: Glyph 51064 missing from current font.\n",
            "  font.set_text(s, 0, flags=flags)\n",
            "/usr/local/lib/python3.7/dist-packages/matplotlib/backends/backend_agg.py:183: RuntimeWarning: Glyph 52380 missing from current font.\n",
            "  font.set_text(s, 0, flags=flags)\n"
          ]
        },
        {
          "output_type": "display_data",
          "data": {
            "text/plain": [
              "<Figure size 180x180 with 1 Axes>"
            ],
            "image/png": "[encoded data removed]"
          },
          "metadata": {
            "needs_background": "light"
          }
        }
      ]
    },
    {
      "cell_type": "code",
      "source": [
        "ids = ['m01','m02','m02','m04']\n",
        "ex = [27,35,40,33]\n",
        "idns = np.array([1,2,3,4])\n",
        "  # 정수로 하게되면 다른값도 같이 나와서 문자열로 casting 후 출력 \n",
        "plt.bar(idns,ex)\n",
        "plt.grid(True)\n",
        "plt.show()"
      ],
      "metadata": {
        "colab": {
          "base_uri": "https://localhost:8080/",
          "height": 265
        },
        "id": "wI0I1SuQ44R3",
        "outputId": "1abc7355-b055-4b7c-a1a2-3f4c16e416c2"
      },
      "execution_count": null,
      "outputs": [
        {
          "output_type": "display_data",
          "data": {
            "text/plain": [
              "<Figure size 432x288 with 1 Axes>"
            ],
            "image/png": "[encoded data removed]"
          },
          "metadata": {
            "needs_background": "light"
          }
        }
      ]
    },
    {
      "cell_type": "code",
      "source": [
        "ids = ['m01','m02','m02','m04']\n",
        "ex = [27,35,40,33] # 운동 전\n",
        "af = [35,40,45,38] # 운동 후\n",
        "bw = 0.4\n",
        "idns = np.array([1,2,3,4])\n",
        "cids = idns.astype(str)  # 정수로 하게되면 다른값도 같이 나와서 문자열로 casting 후 출력 \n",
        "plt.bar(idns,ex,color = ['#c7c7c7','#c7c7c7','#c7c7c7','#c7c7c7'],width=0.4,align='edge',label='before',edgecolor='b',linewidth='3')\n",
        "plt.bar(idns+bw,af,color = ['m','m','m','m'],width=0.4,align='edge',label='after',edgecolor='g',linewidth='3',yerr=[1,1,1,1]),\n",
        "plt.xticks(idns+bw,idns)\n",
        "#plt.grid(True)\n",
        "plt.show()"
      ],
      "metadata": {
        "colab": {
          "base_uri": "https://localhost:8080/",
          "height": 265
        },
        "id": "LvKXney-30yU",
        "outputId": "43da7abb-26ea-44ec-9652-591960b4aac7"
      },
      "execution_count": null,
      "outputs": [
        {
          "output_type": "display_data",
          "data": {
            "text/plain": [
              "<Figure size 432x288 with 1 Axes>"
            ],
            "image/png": "[encoded data removed]"
          },
          "metadata": {
            "needs_background": "light"
          }
        }
      ]
    },
    {
      "cell_type": "code",
      "source": [
        ""
      ],
      "metadata": {
        "id": "_fymPGsY-ryj"
      },
      "execution_count": null,
      "outputs": []
    },
    {
      "cell_type": "code",
      "source": [
        "plt.barh([1,2,3],[4,5,6],height=0.4)\n",
        "plt.show()\n"
      ],
      "metadata": {
        "colab": {
          "base_uri": "https://localhost:8080/",
          "height": 265
        },
        "id": "SjS6-8rZ9B3F",
        "outputId": "d7e2e7f7-3d7a-45d4-a224-ffa295c81c1a"
      },
      "execution_count": null,
      "outputs": [
        {
          "output_type": "display_data",
          "data": {
            "text/plain": [
              "<Figure size 432x288 with 1 Axes>"
            ],
            "image/png": "[encoded data removed]"
          },
          "metadata": {
            "needs_background": "light"
          }
        }
      ]
    },
    {
      "cell_type": "code",
      "source": [
        "ids = ['m01','m02','m02','m04']\n",
        "ex = [27,35,40,33] # 운동 전\n",
        "af = [35,40,45,38] # 운동 후\n",
        "bw = 0.4\n",
        "idns = np.array([1,2,3,4])\n",
        "cids = idns.astype(str)  # 정수로 하게되면 다른값도 같이 나와서 문자열로 casting 후 출력 \n",
        "plt.bar(cids,ex,color = ['r','g','b','m'],width=bw,align='edge')\n",
        "plt.bar(idns+bw,af,color = ['r','g','b','m'],width=bw,align='edge')\n",
        "plt.xticks(idns+bw,idns)\n",
        "#plt.grid(True)\n",
        "plt.show()"
      ],
      "metadata": {
        "colab": {
          "base_uri": "https://localhost:8080/",
          "height": 265
        },
        "id": "FY5W9vti7cKP",
        "outputId": "d47c26c2-25a0-4877-80f6-96ed0ed71ce4"
      },
      "execution_count": null,
      "outputs": [
        {
          "output_type": "display_data",
          "data": {
            "text/plain": [
              "<Figure size 432x288 with 1 Axes>"
            ],
            "image/png": "[encoded data removed]"
          },
          "metadata": {
            "needs_background": "light"
          }
        }
      ]
    },
    {
      "cell_type": "code",
      "source": [
        "plt.figure(figsize=(5,3))\n",
        "Xs = [x/10 for x in range(-50,50)]#-5~5 step:0.1\n",
        "Ys = [2*x*x** for x in Xs] #y = xx+3\n",
        "plt.plot(Xs,ys,label='y=xx+3')\n",
        "plt.xlim(-10,10)\n",
        "plt.ylim(0,50)\n",
        "plt.vlines(0,0,50,color='green')\n",
        "plt.legend(loc='upper left')\n",
        "plt.show()"
      ],
      "metadata": {
        "colab": {
          "base_uri": "https://localhost:8080/",
          "height": 137
        },
        "id": "iHjDbBK7rKU-",
        "outputId": "a4411ee9-086e-489d-a442-3fb45dbd8f0c"
      },
      "execution_count": null,
      "outputs": [
        {
          "output_type": "error",
          "ename": "SyntaxError",
          "evalue": "ignored",
          "traceback": [
            "\u001b[0;36m  File \u001b[0;32m\"<ipython-input-84-2dc69c5e24a4>\"\u001b[0;36m, line \u001b[0;32m3\u001b[0m\n\u001b[0;31m    Ys = [2*x*x** for x in Xs] #y = xx+3\u001b[0m\n\u001b[0m                    ^\u001b[0m\n\u001b[0;31mSyntaxError\u001b[0m\u001b[0;31m:\u001b[0m invalid syntax\n"
          ]
        }
      ]
    },
    {
      "cell_type": "code",
      "source": [
        ""
      ],
      "metadata": {
        "id": "bmCM9h30s55y"
      },
      "execution_count": null,
      "outputs": []
    },
    {
      "cell_type": "code",
      "source": [
        ""
      ],
      "metadata": {
        "id": "xd28J8T9s5ZB"
      },
      "execution_count": null,
      "outputs": []
    },
    {
      "cell_type": "code",
      "source": [
        ""
      ],
      "metadata": {
        "id": "iku8o5yBs4kU"
      },
      "execution_count": null,
      "outputs": []
    },
    {
      "cell_type": "markdown",
      "source": [
        "# scatter\n",
        "matplotlib.pyplot.scatter(x, y, s=None, c=None, marker=None, cmap=None, norm=None, vmin=None, vmax=None, alpha=None, linewidths=None, *, edgecolors=None, plotnonfinite=False, data=None, **kwargs)"
      ],
      "metadata": {
        "id": "U2TCGyK3jsX-"
      }
    },
    {
      "cell_type": "code",
      "source": [
        "plt.figure(figsize=(4,3))   # scatter는 plot과 다르게 marker의 크기를 정할 수 있다. (ex 인구수?? 사이즈를 다르게 표현 할때 사용된다)\n",
        "plt.scatter([1,2],[1,1],label='first')\n",
        "plt.scatter([1,2],[1,1],[1,8],label='second')  \n",
        "plt.title(\"scatter\")\n",
        "plt.legend()\n",
        "plt.show()"
      ],
      "metadata": {
        "colab": {
          "base_uri": "https://localhost:8080/",
          "height": 227
        },
        "id": "RFBQuFxkisIx",
        "outputId": "e20ba837-94d4-4988-d138-c4d6a1fe53ea"
      },
      "execution_count": null,
      "outputs": [
        {
          "output_type": "display_data",
          "data": {
            "text/plain": [
              "<Figure size 288x216 with 1 Axes>"
            ],
            "image/png": "[encoded data removed]"
          },
          "metadata": {
            "needs_background": "light"
          }
        }
      ]
    },
    {
      "cell_type": "code",
      "source": [
        "temp = [25.2,35.7,45.2]\n",
        "sales = [1000,2000,2500]\n",
        "dict_data = {\"temp\":temp, \"sales\":sales}\n",
        "df = pd.DataFrame(dict_data,columns = ['temp','sales'])\n",
        "df"
      ],
      "metadata": {
        "colab": {
          "base_uri": "https://localhost:8080/",
          "height": 143
        },
        "id": "-Rt4wnctiskI",
        "outputId": "47c9f705-e28b-41f0-b3b3-d60ee0324958"
      },
      "execution_count": null,
      "outputs": [
        {
          "output_type": "execute_result",
          "data": {
            "text/plain": [
              "   temp  sales\n",
              "0  25.2   1000\n",
              "1  35.7   2000\n",
              "2  45.2   2500"
            ],
            "text/html": [
              "\n",
              "  <div id=\"df-2b430740-0c75-446a-ba2c-5a622f2eb845\">\n",
              "    <div class=\"colab-df-container\">\n",
              "      <div>\n",
              "<style scoped>\n",
              "    .dataframe tbody tr th:only-of-type {\n",
              "        vertical-align: middle;\n",
              "    }\n",
              "\n",
              "    .dataframe tbody tr th {\n",
              "        vertical-align: top;\n",
              "    }\n",
              "\n",
              "    .dataframe thead th {\n",
              "        text-align: right;\n",
              "    }\n",
              "</style>\n",
              "<table border=\"1\" class=\"dataframe\">\n",
              "  <thead>\n",
              "    <tr style=\"text-align: right;\">\n",
              "      <th></th>\n",
              "      <th>temp</th>\n",
              "      <th>sales</th>\n",
              "    </tr>\n",
              "  </thead>\n",
              "  <tbody>\n",
              "    <tr>\n",
              "      <th>0</th>\n",
              "      <td>25.2</td>\n",
              "      <td>1000</td>\n",
              "    </tr>\n",
              "    <tr>\n",
              "      <th>1</th>\n",
              "      <td>35.7</td>\n",
              "      <td>2000</td>\n",
              "    </tr>\n",
              "    <tr>\n",
              "      <th>2</th>\n",
              "      <td>45.2</td>\n",
              "      <td>2500</td>\n",
              "    </tr>\n",
              "  </tbody>\n",
              "</table>\n",
              "</div>\n",
              "      <button class=\"colab-df-convert\" onclick=\"convertToInteractive('df-2b430740-0c75-446a-ba2c-5a622f2eb845')\"\n",
              "              title=\"Convert this dataframe to an interactive table.\"\n",
              "              style=\"display:none;\">\n",
              "        \n",
              "  <svg xmlns=\"http://www.w3.org/2000/svg\" height=\"24px\"viewBox=\"0 0 24 24\"\n",
              "       width=\"24px\">\n",
              "    <path d=\"M0 0h24v24H0V0z\" fill=\"none\"/>\n",
              "    <path d=\"M18.56 5.44l.94 2.06.94-2.06 2.06-.94-2.06-.94-.94-2.06-.94 2.06-2.06.94zm-11 1L8.5 8.5l.94-2.06 2.06-.94-2.06-.94L8.5 2.5l-.94 2.06-2.06.94zm10 10l.94 2.06.94-2.06 2.06-.94-2.06-.94-.94-2.06-.94 2.06-2.06.94z\"/><path d=\"M17.41 7.96l-1.37-1.37c-.4-.4-.92-.59-1.43-.59-.52 0-1.04.2-1.43.59L10.3 9.45l-7.72 7.72c-.78.78-.78 2.05 0 2.83L4 21.41c.39.39.9.59 1.41.59.51 0 1.02-.2 1.41-.59l7.78-7.78 2.81-2.81c.8-.78.8-2.07 0-2.86zM5.41 20L4 18.59l7.72-7.72 1.47 1.35L5.41 20z\"/>\n",
              "  </svg>\n",
              "      </button>\n",
              "      \n",
              "  <style>\n",
              "    .colab-df-container {\n",
              "      display:flex;\n",
              "      flex-wrap:wrap;\n",
              "      gap: 12px;\n",
              "    }\n",
              "\n",
              "    .colab-df-convert {\n",
              "      background-color: #E8F0FE;\n",
              "      border: none;\n",
              "      border-radius: 50%;\n",
              "      cursor: pointer;\n",
              "      display: none;\n",
              "      fill: #1967D2;\n",
              "      height: 32px;\n",
              "      padding: 0 0 0 0;\n",
              "      width: 32px;\n",
              "    }\n",
              "\n",
              "    .colab-df-convert:hover {\n",
              "      background-color: #E2EBFA;\n",
              "      box-shadow: 0px 1px 2px rgba(60, 64, 67, 0.3), 0px 1px 3px 1px rgba(60, 64, 67, 0.15);\n",
              "      fill: #174EA6;\n",
              "    }\n",
              "\n",
              "    [theme=dark] .colab-df-convert {\n",
              "      background-color: #3B4455;\n",
              "      fill: #D2E3FC;\n",
              "    }\n",
              "\n",
              "    [theme=dark] .colab-df-convert:hover {\n",
              "      background-color: #434B5C;\n",
              "      box-shadow: 0px 1px 3px 1px rgba(0, 0, 0, 0.15);\n",
              "      filter: drop-shadow(0px 1px 2px rgba(0, 0, 0, 0.3));\n",
              "      fill: #FFFFFF;\n",
              "    }\n",
              "  </style>\n",
              "\n",
              "      <script>\n",
              "        const buttonEl =\n",
              "          document.querySelector('#df-2b430740-0c75-446a-ba2c-5a622f2eb845 button.colab-df-convert');\n",
              "        buttonEl.style.display =\n",
              "          google.colab.kernel.accessAllowed ? 'block' : 'none';\n",
              "\n",
              "        async function convertToInteractive(key) {\n",
              "          const element = document.querySelector('#df-2b430740-0c75-446a-ba2c-5a622f2eb845');\n",
              "          const dataTable =\n",
              "            await google.colab.kernel.invokeFunction('convertToInteractive',\n",
              "                                                     [key], {});\n",
              "          if (!dataTable) return;\n",
              "\n",
              "          const docLinkHtml = 'Like what you see? Visit the ' +\n",
              "            '<a target=\"_blank\" href=https://colab.research.google.com/notebooks/data_table.ipynb>data table notebook</a>'\n",
              "            + ' to learn more about interactive tables.';\n",
              "          element.innerHTML = '';\n",
              "          dataTable['output_type'] = 'display_data';\n",
              "          await google.colab.output.renderOutput(dataTable, element);\n",
              "          const docLink = document.createElement('div');\n",
              "          docLink.innerHTML = docLinkHtml;\n",
              "          element.appendChild(docLink);\n",
              "        }\n",
              "      </script>\n",
              "    </div>\n",
              "  </div>\n",
              "  "
            ]
          },
          "metadata": {},
          "execution_count": 27
        }
      ]
    },
    {
      "cell_type": "code",
      "source": [
        "df.plot.scatter(x='temp',y='sales')\n",
        "plt.show()"
      ],
      "metadata": {
        "colab": {
          "base_uri": "https://localhost:8080/",
          "height": 279
        },
        "id": "9zi9nzdiis1Q",
        "outputId": "1a6d3436-3878-4eb3-cdd6-26249d9e1af8"
      },
      "execution_count": null,
      "outputs": [
        {
          "output_type": "display_data",
          "data": {
            "text/plain": [
              "<Figure size 432x288 with 1 Axes>"
            ],
            "image/png": "[encoded data removed]"
          },
          "metadata": {
            "needs_background": "light"
          }
        }
      ]
    },
    {
      "cell_type": "code",
      "source": [
        "plt.figure(figsize=(4,4))\n",
        "ex_xs = [[2],[4],[7],[1],[9],[6]]\n",
        "ex_ys = [8,11,24,5,30,20]\n",
        "plt.plot(ex_xs[:],ex_ys,'o',label='example data')\n",
        "plt.plot([0,30],[2*0+2,2*30+2],label='y=2x+2')\n",
        "plt.plot([0,30],[3*0+2,3*30+2],label='y=3x+2')\n",
        "plt.plot([0,30],[4*0+2,4*30+2],label='y=4x+2')\n",
        "plt.legend()\n",
        "plt.xlim(0,30)\n",
        "plt.ylim(0,30)\n",
        "plt.show()\n"
      ],
      "metadata": {
        "id": "Md_2jOrzis4Z",
        "colab": {
          "base_uri": "https://localhost:8080/",
          "height": 269
        },
        "outputId": "99bf28b8-c6c1-450f-e4cb-65775564fdc2"
      },
      "execution_count": 134,
      "outputs": [
        {
          "output_type": "display_data",
          "data": {
            "text/plain": [
              "<Figure size 288x288 with 1 Axes>"
            ],
            "image/png": "[encoded data removed]"
          },
          "metadata": {
            "needs_background": "light"
          }
        }
      ]
    },
    {
      "cell_type": "markdown",
      "source": [
        "MSE- mean squared error - 평균 제곱 오차 \n",
        "\n",
        "​\n",
        "\n",
        "잔차(오차)의 제곱에 대한 평균을 취한 값\n",
        "\n",
        "MSE = E [ (X - X^)2]\n",
        "\n",
        "\n",
        "​\n",
        "\n",
        "ex) 회귀분석으로 예측값이 나오고 그것을 실제 값과 뺴주어 나온 값(잔차)를 모두 더해 평균을 내주는 값 \n",
        "\n",
        "​\n",
        "\n",
        "통계적 추정의 정확성에 대한 질적인 척도\n",
        "\n",
        "수치가 작은수록 정확성이 높은 것"
      ],
      "metadata": {
        "id": "TEQopxz0VpOf"
      }
    },
    {
      "cell_type": "markdown",
      "source": [
        "평균 절대 오차 (Mean Absolute Error)"
      ],
      "metadata": {
        "id": "ZLbI2K85V6tW"
      }
    },
    {
      "cell_type": "code",
      "source": [
        ""
      ],
      "metadata": {
        "id": "yf_qSjTTWaqF"
      },
      "execution_count": null,
      "outputs": []
    },
    {
      "cell_type": "code",
      "source": [
        "# 평균 제곱 오차(MSE)는 회귀에서 자주 사용되는 손실 함수\n",
        "def mse(yp,y):\n",
        "  return np.mean(sum(yp-y)**2)"
      ],
      "metadata": {
        "id": "wYU7UTtLis7y"
      },
      "execution_count": null,
      "outputs": []
    },
    {
      "cell_type": "code",
      "source": [
        "import numpy as np\n",
        "b = 2\n",
        "mses = [] # mse를 보관할 컬렉션\n",
        "wpl = np.arange(-10,10,0.5) # 조사할 기울기 -10에서 10까지 step:0.5\n",
        "for wp in wpl:#기울기마다\n",
        "  yp = wp*np.array(ex_xs)+b\n",
        "  mses.append(mse(yp,ex_xs)) # 해당 기울기에서 mse를 보관\n",
        "mses  \n"
      ],
      "metadata": {
        "id": "kJo65qs-is-j",
        "colab": {
          "base_uri": "https://localhost:8080/"
        },
        "outputId": "dd2a9de3-317e-4b9e-8abb-132e51899876"
      },
      "execution_count": 135,
      "outputs": [
        {
          "output_type": "execute_result",
          "data": {
            "text/plain": [
              "[94249.0,\n",
              " 85556.25,\n",
              " 77284.0,\n",
              " 69432.25,\n",
              " 62001.0,\n",
              " 54990.25,\n",
              " 48400.0,\n",
              " 42230.25,\n",
              " 36481.0,\n",
              " 31152.25,\n",
              " 26244.0,\n",
              " 21756.25,\n",
              " 17689.0,\n",
              " 14042.25,\n",
              " 10816.0,\n",
              " 8010.25,\n",
              " 5625.0,\n",
              " 3660.25,\n",
              " 2116.0,\n",
              " 992.25,\n",
              " 289.0,\n",
              " 6.25,\n",
              " 144.0,\n",
              " 702.25,\n",
              " 1681.0,\n",
              " 3080.25,\n",
              " 4900.0,\n",
              " 7140.25,\n",
              " 9801.0,\n",
              " 12882.25,\n",
              " 16384.0,\n",
              " 20306.25,\n",
              " 24649.0,\n",
              " 29412.25,\n",
              " 34596.0,\n",
              " 40200.25,\n",
              " 46225.0,\n",
              " 52670.25,\n",
              " 59536.0,\n",
              " 66822.25]"
            ]
          },
          "metadata": {},
          "execution_count": 135
        }
      ]
    },
    {
      "cell_type": "code",
      "source": [
        "mi = np.array(mses).argmin() # 최소값\n",
        "plt.plot(wpl,mses,'.')\n",
        "plt.plot(wpl[mi],mses[mi],'or') # x, y(최소값)\n",
        "plt.show() # mse로 손실에 대해 시각화"
      ],
      "metadata": {
        "colab": {
          "base_uri": "https://localhost:8080/",
          "height": 265
        },
        "id": "jPhVhV3RXQ33",
        "outputId": "ecc8031c-f672-4304-d49c-ea1810f794e1"
      },
      "execution_count": null,
      "outputs": [
        {
          "output_type": "display_data",
          "data": {
            "text/plain": [
              "<Figure size 432x288 with 1 Axes>"
            ],
            "image/png": "[encoded data removed]"
          },
          "metadata": {
            "needs_background": "light"
          }
        }
      ]
    },
    {
      "cell_type": "markdown",
      "source": [
        "#파이 그래프\n",
        "\n",
        "matplotlib.pyplot.pie(x, explode=None, labels=None, colors=None, autopct=None, pctdistance=0.6, shadow=False, labeldistance=1.1, startangle=0, radius=1, counterclock=True, wedgeprops=None, textprops=None, center=(0, 0), frame=False, rotatelabels=False, *, normalize=True, data=None)[source]"
      ],
      "metadata": {
        "id": "MNX-GFZzZ8gF"
      }
    },
    {
      "cell_type": "code",
      "source": [
        "plt.pie([19,20,90,7])\n",
        "plt.show()"
      ],
      "metadata": {
        "colab": {
          "base_uri": "https://localhost:8080/",
          "height": 248
        },
        "id": "tjyIoKkaaAL0",
        "outputId": "8b8cd06a-160b-45bd-90f4-e2c25a3688e2"
      },
      "execution_count": null,
      "outputs": [
        {
          "output_type": "display_data",
          "data": {
            "text/plain": [
              "<Figure size 432x288 with 1 Axes>"
            ],
            "image/png": "[encoded data removed]"
          },
          "metadata": {}
        }
      ]
    },
    {
      "cell_type": "code",
      "source": [
        "plt.title(\"who's pick pizza\")\n",
        "plt.pie([19,20,90,7],explode=[0.1,0.1,0.1,0.1],labels=['apple','banana','melon','grape'],colors=['silver','gold','gray','lightgray'],\n",
        "        autopct='%.1f%%',shadow=True, wedgeprops={'width': 0.7, 'edgecolor': 'w', 'linewidth': 5},counterclock=False)\n",
        "\n",
        "plt.show()"
      ],
      "metadata": {
        "colab": {
          "base_uri": "https://localhost:8080/",
          "height": 264
        },
        "id": "NpwDqdfpaaa5",
        "outputId": "1ab2ed05-3496-40d4-b416-7762cf4aeb1c"
      },
      "execution_count": null,
      "outputs": [
        {
          "output_type": "display_data",
          "data": {
            "text/plain": [
              "<Figure size 432x288 with 1 Axes>"
            ],
            "image/png": "[encoded data removed]"
          },
          "metadata": {}
        }
      ]
    },
    {
      "cell_type": "code",
      "source": [
        "xs = [np.random.randint(1,7) for _ in range(1000)]\n",
        "b = plt.hist(xs) # 히스토그렘은 막대사이에 간격이 있으면 안된다\n",
        "plt.show()\n",
        "b"
      ],
      "metadata": {
        "colab": {
          "base_uri": "https://localhost:8080/",
          "height": 320
        },
        "id": "h-GNUCEPiom0",
        "outputId": "53abd4fe-2fb4-4bb9-91bb-5fdefac8b1cb"
      },
      "execution_count": null,
      "outputs": [
        {
          "output_type": "display_data",
          "data": {
            "text/plain": [
              "<Figure size 432x288 with 1 Axes>"
            ],
            "image/png": "[encoded data removed]"
          },
          "metadata": {
            "needs_background": "light"
          }
        },
        {
          "output_type": "execute_result",
          "data": {
            "text/plain": [
              "(array([166.,   0., 180.,   0., 171.,   0., 180.,   0., 155., 148.]),\n",
              " array([1. , 1.5, 2. , 2.5, 3. , 3.5, 4. , 4.5, 5. , 5.5, 6. ]),\n",
              " <a list of 10 Patch objects>)"
            ]
          },
          "metadata": {},
          "execution_count": 62
        }
      ]
    },
    {
      "cell_type": "code",
      "source": [
        "xs = [np.random.randint(1,7) for _ in range(1000)]\n",
        "plt.hist(xs,bins=100) # 히스토그렘은 막대사이에 간격이 있으면 안된다\n",
        "plt.show()"
      ],
      "metadata": {
        "colab": {
          "base_uri": "https://localhost:8080/",
          "height": 265
        },
        "id": "tBWDERhra8tW",
        "outputId": "c2b03e2d-f17b-465e-d92a-72b506de0382"
      },
      "execution_count": null,
      "outputs": [
        {
          "output_type": "display_data",
          "data": {
            "text/plain": [
              "<Figure size 432x288 with 1 Axes>"
            ],
            "image/png": "[encoded data removed]"
          },
          "metadata": {
            "needs_background": "light"
          }
        }
      ]
    },
    {
      "cell_type": "code",
      "source": [
        "xs = [np.random.randint(1,7) for _ in range(1,7)]\n",
        "plt.hist(xs,bins=[i for i in range(1,7)]) # 히스토그렘은 막대사이에 간격이 있으면 안된다\n",
        "plt.show()"
      ],
      "metadata": {
        "id": "fVA7XI1IXyEA",
        "colab": {
          "base_uri": "https://localhost:8080/",
          "height": 265
        },
        "outputId": "9cbe7206-773e-4afe-f9a2-cd6082aebcc9"
      },
      "execution_count": null,
      "outputs": [
        {
          "output_type": "display_data",
          "data": {
            "text/plain": [
              "<Figure size 432x288 with 1 Axes>"
            ],
            "image/png": "[encoded data removed]"
          },
          "metadata": {
            "needs_background": "light"
          }
        }
      ]
    },
    {
      "cell_type": "code",
      "source": [
        "path = '/content/sample_data/train_titanic (1).csv'\n",
        "data = pd.read_csv(path)\n",
        "data"
      ],
      "metadata": {
        "id": "5tpAqs4AitBI",
        "colab": {
          "base_uri": "https://localhost:8080/",
          "height": 423
        },
        "outputId": "c958aa3d-9b8a-4be0-c220-a3b48190e220"
      },
      "execution_count": 72,
      "outputs": [
        {
          "output_type": "execute_result",
          "data": {
            "text/plain": [
              "     PassengerId  Survived  Pclass  \\\n",
              "0              1         0       3   \n",
              "1              2         1       1   \n",
              "2              3         1       3   \n",
              "3              4         1       1   \n",
              "4              5         0       3   \n",
              "..           ...       ...     ...   \n",
              "886          887         0       2   \n",
              "887          888         1       1   \n",
              "888          889         0       3   \n",
              "889          890         1       1   \n",
              "890          891         0       3   \n",
              "\n",
              "                                                  Name     Sex   Age  SibSp  \\\n",
              "0                              Braund, Mr. Owen Harris    male  22.0      1   \n",
              "1    Cumings, Mrs. John Bradley (Florence Briggs Th...  female  38.0      1   \n",
              "2                               Heikkinen, Miss. Laina  female  26.0      0   \n",
              "3         Futrelle, Mrs. Jacques Heath (Lily May Peel)  female  35.0      1   \n",
              "4                             Allen, Mr. William Henry    male  35.0      0   \n",
              "..                                                 ...     ...   ...    ...   \n",
              "886                              Montvila, Rev. Juozas    male  27.0      0   \n",
              "887                       Graham, Miss. Margaret Edith  female  19.0      0   \n",
              "888           Johnston, Miss. Catherine Helen \"Carrie\"  female   NaN      1   \n",
              "889                              Behr, Mr. Karl Howell    male  26.0      0   \n",
              "890                                Dooley, Mr. Patrick    male  32.0      0   \n",
              "\n",
              "     Parch            Ticket     Fare Cabin Embarked  \n",
              "0        0         A/5 21171   7.2500   NaN        S  \n",
              "1        0          PC 17599  71.2833   C85        C  \n",
              "2        0  STON/O2. 3101282   7.9250   NaN        S  \n",
              "3        0            113803  53.1000  C123        S  \n",
              "4        0            373450   8.0500   NaN        S  \n",
              "..     ...               ...      ...   ...      ...  \n",
              "886      0            211536  13.0000   NaN        S  \n",
              "887      0            112053  30.0000   B42        S  \n",
              "888      2        W./C. 6607  23.4500   NaN        S  \n",
              "889      0            111369  30.0000  C148        C  \n",
              "890      0            370376   7.7500   NaN        Q  \n",
              "\n",
              "[891 rows x 12 columns]"
            ],
            "text/html": [
              "\n",
              "  <div id=\"df-cf17b233-f3ab-438b-820b-3e6a424d3ba5\">\n",
              "    <div class=\"colab-df-container\">\n",
              "      <div>\n",
              "<style scoped>\n",
              "    .dataframe tbody tr th:only-of-type {\n",
              "        vertical-align: middle;\n",
              "    }\n",
              "\n",
              "    .dataframe tbody tr th {\n",
              "        vertical-align: top;\n",
              "    }\n",
              "\n",
              "    .dataframe thead th {\n",
              "        text-align: right;\n",
              "    }\n",
              "</style>\n",
              "<table border=\"1\" class=\"dataframe\">\n",
              "  <thead>\n",
              "    <tr style=\"text-align: right;\">\n",
              "      <th></th>\n",
              "      <th>PassengerId</th>\n",
              "      <th>Survived</th>\n",
              "      <th>Pclass</th>\n",
              "      <th>Name</th>\n",
              "      <th>Sex</th>\n",
              "      <th>Age</th>\n",
              "      <th>SibSp</th>\n",
              "      <th>Parch</th>\n",
              "      <th>Ticket</th>\n",
              "      <th>Fare</th>\n",
              "      <th>Cabin</th>\n",
              "      <th>Embarked</th>\n",
              "    </tr>\n",
              "  </thead>\n",
              "  <tbody>\n",
              "    <tr>\n",
              "      <th>0</th>\n",
              "      <td>1</td>\n",
              "      <td>0</td>\n",
              "      <td>3</td>\n",
              "      <td>Braund, Mr. Owen Harris</td>\n",
              "      <td>male</td>\n",
              "      <td>22.0</td>\n",
              "      <td>1</td>\n",
              "      <td>0</td>\n",
              "      <td>A/5 21171</td>\n",
              "      <td>7.2500</td>\n",
              "      <td>NaN</td>\n",
              "      <td>S</td>\n",
              "    </tr>\n",
              "    <tr>\n",
              "      <th>1</th>\n",
              "      <td>2</td>\n",
              "      <td>1</td>\n",
              "      <td>1</td>\n",
              "      <td>Cumings, Mrs. John Bradley (Florence Briggs Th...</td>\n",
              "      <td>female</td>\n",
              "      <td>38.0</td>\n",
              "      <td>1</td>\n",
              "      <td>0</td>\n",
              "      <td>PC 17599</td>\n",
              "      <td>71.2833</td>\n",
              "      <td>C85</td>\n",
              "      <td>C</td>\n",
              "    </tr>\n",
              "    <tr>\n",
              "      <th>2</th>\n",
              "      <td>3</td>\n",
              "      <td>1</td>\n",
              "      <td>3</td>\n",
              "      <td>Heikkinen, Miss. Laina</td>\n",
              "      <td>female</td>\n",
              "      <td>26.0</td>\n",
              "      <td>0</td>\n",
              "      <td>0</td>\n",
              "      <td>STON/O2. 3101282</td>\n",
              "      <td>7.9250</td>\n",
              "      <td>NaN</td>\n",
              "      <td>S</td>\n",
              "    </tr>\n",
              "    <tr>\n",
              "      <th>3</th>\n",
              "      <td>4</td>\n",
              "      <td>1</td>\n",
              "      <td>1</td>\n",
              "      <td>Futrelle, Mrs. Jacques Heath (Lily May Peel)</td>\n",
              "      <td>female</td>\n",
              "      <td>35.0</td>\n",
              "      <td>1</td>\n",
              "      <td>0</td>\n",
              "      <td>113803</td>\n",
              "      <td>53.1000</td>\n",
              "      <td>C123</td>\n",
              "      <td>S</td>\n",
              "    </tr>\n",
              "    <tr>\n",
              "      <th>4</th>\n",
              "      <td>5</td>\n",
              "      <td>0</td>\n",
              "      <td>3</td>\n",
              "      <td>Allen, Mr. William Henry</td>\n",
              "      <td>male</td>\n",
              "      <td>35.0</td>\n",
              "      <td>0</td>\n",
              "      <td>0</td>\n",
              "      <td>373450</td>\n",
              "      <td>8.0500</td>\n",
              "      <td>NaN</td>\n",
              "      <td>S</td>\n",
              "    </tr>\n",
              "    <tr>\n",
              "      <th>...</th>\n",
              "      <td>...</td>\n",
              "      <td>...</td>\n",
              "      <td>...</td>\n",
              "      <td>...</td>\n",
              "      <td>...</td>\n",
              "      <td>...</td>\n",
              "      <td>...</td>\n",
              "      <td>...</td>\n",
              "      <td>...</td>\n",
              "      <td>...</td>\n",
              "      <td>...</td>\n",
              "      <td>...</td>\n",
              "    </tr>\n",
              "    <tr>\n",
              "      <th>886</th>\n",
              "      <td>887</td>\n",
              "      <td>0</td>\n",
              "      <td>2</td>\n",
              "      <td>Montvila, Rev. Juozas</td>\n",
              "      <td>male</td>\n",
              "      <td>27.0</td>\n",
              "      <td>0</td>\n",
              "      <td>0</td>\n",
              "      <td>211536</td>\n",
              "      <td>13.0000</td>\n",
              "      <td>NaN</td>\n",
              "      <td>S</td>\n",
              "    </tr>\n",
              "    <tr>\n",
              "      <th>887</th>\n",
              "      <td>888</td>\n",
              "      <td>1</td>\n",
              "      <td>1</td>\n",
              "      <td>Graham, Miss. Margaret Edith</td>\n",
              "      <td>female</td>\n",
              "      <td>19.0</td>\n",
              "      <td>0</td>\n",
              "      <td>0</td>\n",
              "      <td>112053</td>\n",
              "      <td>30.0000</td>\n",
              "      <td>B42</td>\n",
              "      <td>S</td>\n",
              "    </tr>\n",
              "    <tr>\n",
              "      <th>888</th>\n",
              "      <td>889</td>\n",
              "      <td>0</td>\n",
              "      <td>3</td>\n",
              "      <td>Johnston, Miss. Catherine Helen \"Carrie\"</td>\n",
              "      <td>female</td>\n",
              "      <td>NaN</td>\n",
              "      <td>1</td>\n",
              "      <td>2</td>\n",
              "      <td>W./C. 6607</td>\n",
              "      <td>23.4500</td>\n",
              "      <td>NaN</td>\n",
              "      <td>S</td>\n",
              "    </tr>\n",
              "    <tr>\n",
              "      <th>889</th>\n",
              "      <td>890</td>\n",
              "      <td>1</td>\n",
              "      <td>1</td>\n",
              "      <td>Behr, Mr. Karl Howell</td>\n",
              "      <td>male</td>\n",
              "      <td>26.0</td>\n",
              "      <td>0</td>\n",
              "      <td>0</td>\n",
              "      <td>111369</td>\n",
              "      <td>30.0000</td>\n",
              "      <td>C148</td>\n",
              "      <td>C</td>\n",
              "    </tr>\n",
              "    <tr>\n",
              "      <th>890</th>\n",
              "      <td>891</td>\n",
              "      <td>0</td>\n",
              "      <td>3</td>\n",
              "      <td>Dooley, Mr. Patrick</td>\n",
              "      <td>male</td>\n",
              "      <td>32.0</td>\n",
              "      <td>0</td>\n",
              "      <td>0</td>\n",
              "      <td>370376</td>\n",
              "      <td>7.7500</td>\n",
              "      <td>NaN</td>\n",
              "      <td>Q</td>\n",
              "    </tr>\n",
              "  </tbody>\n",
              "</table>\n",
              "<p>891 rows × 12 columns</p>\n",
              "</div>\n",
              "      <button class=\"colab-df-convert\" onclick=\"convertToInteractive('df-cf17b233-f3ab-438b-820b-3e6a424d3ba5')\"\n",
              "              title=\"Convert this dataframe to an interactive table.\"\n",
              "              style=\"display:none;\">\n",
              "        \n",
              "  <svg xmlns=\"http://www.w3.org/2000/svg\" height=\"24px\"viewBox=\"0 0 24 24\"\n",
              "       width=\"24px\">\n",
              "    <path d=\"M0 0h24v24H0V0z\" fill=\"none\"/>\n",
              "    <path d=\"M18.56 5.44l.94 2.06.94-2.06 2.06-.94-2.06-.94-.94-2.06-.94 2.06-2.06.94zm-11 1L8.5 8.5l.94-2.06 2.06-.94-2.06-.94L8.5 2.5l-.94 2.06-2.06.94zm10 10l.94 2.06.94-2.06 2.06-.94-2.06-.94-.94-2.06-.94 2.06-2.06.94z\"/><path d=\"M17.41 7.96l-1.37-1.37c-.4-.4-.92-.59-1.43-.59-.52 0-1.04.2-1.43.59L10.3 9.45l-7.72 7.72c-.78.78-.78 2.05 0 2.83L4 21.41c.39.39.9.59 1.41.59.51 0 1.02-.2 1.41-.59l7.78-7.78 2.81-2.81c.8-.78.8-2.07 0-2.86zM5.41 20L4 18.59l7.72-7.72 1.47 1.35L5.41 20z\"/>\n",
              "  </svg>\n",
              "      </button>\n",
              "      \n",
              "  <style>\n",
              "    .colab-df-container {\n",
              "      display:flex;\n",
              "      flex-wrap:wrap;\n",
              "      gap: 12px;\n",
              "    }\n",
              "\n",
              "    .colab-df-convert {\n",
              "      background-color: #E8F0FE;\n",
              "      border: none;\n",
              "      border-radius: 50%;\n",
              "      cursor: pointer;\n",
              "      display: none;\n",
              "      fill: #1967D2;\n",
              "      height: 32px;\n",
              "      padding: 0 0 0 0;\n",
              "      width: 32px;\n",
              "    }\n",
              "\n",
              "    .colab-df-convert:hover {\n",
              "      background-color: #E2EBFA;\n",
              "      box-shadow: 0px 1px 2px rgba(60, 64, 67, 0.3), 0px 1px 3px 1px rgba(60, 64, 67, 0.15);\n",
              "      fill: #174EA6;\n",
              "    }\n",
              "\n",
              "    [theme=dark] .colab-df-convert {\n",
              "      background-color: #3B4455;\n",
              "      fill: #D2E3FC;\n",
              "    }\n",
              "\n",
              "    [theme=dark] .colab-df-convert:hover {\n",
              "      background-color: #434B5C;\n",
              "      box-shadow: 0px 1px 3px 1px rgba(0, 0, 0, 0.15);\n",
              "      filter: drop-shadow(0px 1px 2px rgba(0, 0, 0, 0.3));\n",
              "      fill: #FFFFFF;\n",
              "    }\n",
              "  </style>\n",
              "\n",
              "      <script>\n",
              "        const buttonEl =\n",
              "          document.querySelector('#df-cf17b233-f3ab-438b-820b-3e6a424d3ba5 button.colab-df-convert');\n",
              "        buttonEl.style.display =\n",
              "          google.colab.kernel.accessAllowed ? 'block' : 'none';\n",
              "\n",
              "        async function convertToInteractive(key) {\n",
              "          const element = document.querySelector('#df-cf17b233-f3ab-438b-820b-3e6a424d3ba5');\n",
              "          const dataTable =\n",
              "            await google.colab.kernel.invokeFunction('convertToInteractive',\n",
              "                                                     [key], {});\n",
              "          if (!dataTable) return;\n",
              "\n",
              "          const docLinkHtml = 'Like what you see? Visit the ' +\n",
              "            '<a target=\"_blank\" href=https://colab.research.google.com/notebooks/data_table.ipynb>data table notebook</a>'\n",
              "            + ' to learn more about interactive tables.';\n",
              "          element.innerHTML = '';\n",
              "          dataTable['output_type'] = 'display_data';\n",
              "          await google.colab.output.renderOutput(dataTable, element);\n",
              "          const docLink = document.createElement('div');\n",
              "          docLink.innerHTML = docLinkHtml;\n",
              "          element.appendChild(docLink);\n",
              "        }\n",
              "      </script>\n",
              "    </div>\n",
              "  </div>\n",
              "  "
            ]
          },
          "metadata": {},
          "execution_count": 72
        }
      ]
    },
    {
      "cell_type": "code",
      "source": [
        "s_data = data['Survived']\n",
        "s_data.value_counts()"
      ],
      "metadata": {
        "id": "sqXhtiSSitDq",
        "colab": {
          "base_uri": "https://localhost:8080/"
        },
        "outputId": "687c0e20-cb4d-476e-f5ac-e0de3aae9c77"
      },
      "execution_count": 71,
      "outputs": [
        {
          "output_type": "execute_result",
          "data": {
            "text/plain": [
              "0    549\n",
              "1    342\n",
              "Name: Survived, dtype: int64"
            ]
          },
          "metadata": {},
          "execution_count": 71
        }
      ]
    },
    {
      "cell_type": "code",
      "source": [
        "vc = s_data.value_counts()\n",
        "plt.pie(vc.values,labels=['dead=%d'%vc[0],'alive=%d'%vc[1]],autopct='%.1f%%',colors=['silver','gold'],shadow=True)"
      ],
      "metadata": {
        "id": "M_Y_Hr98itIR",
        "colab": {
          "base_uri": "https://localhost:8080/",
          "height": 358
        },
        "outputId": "2ac36417-78f5-4799-f10c-04be0612fc2b"
      },
      "execution_count": 81,
      "outputs": [
        {
          "output_type": "execute_result",
          "data": {
            "text/plain": [
              "([<matplotlib.patches.Wedge at 0x7fd05ac4cf50>,\n",
              "  <matplotlib.patches.Wedge at 0x7fd05ad02750>],\n",
              " [Text(-0.39257493509945834, 1.0275626113924428, 'dead=549'),\n",
              "  Text(0.3925750313068116, -1.0275625746369201, 'alive=342')],\n",
              " [Text(-0.2141317827815227, 0.5604886971231505, '61.6%'),\n",
              "  Text(0.21413183525826085, -0.5604886770746836, '38.4%')])"
            ]
          },
          "metadata": {},
          "execution_count": 81
        },
        {
          "output_type": "display_data",
          "data": {
            "text/plain": [
              "<Figure size 432x288 with 1 Axes>"
            ],
            "image/png": "[encoded data removed]"
          },
          "metadata": {}
        }
      ]
    },
    {
      "cell_type": "code",
      "source": [
        "data.info()"
      ],
      "metadata": {
        "colab": {
          "base_uri": "https://localhost:8080/"
        },
        "id": "v4gTwjxpoR-4",
        "outputId": "f74a7810-033c-4bb0-831b-d253105e91e5"
      },
      "execution_count": 80,
      "outputs": [
        {
          "output_type": "stream",
          "name": "stdout",
          "text": [
            "<class 'pandas.core.frame.DataFrame'>\n",
            "RangeIndex: 891 entries, 0 to 890\n",
            "Data columns (total 12 columns):\n",
            " #   Column       Non-Null Count  Dtype  \n",
            "---  ------       --------------  -----  \n",
            " 0   PassengerId  891 non-null    int64  \n",
            " 1   Survived     891 non-null    int64  \n",
            " 2   Pclass       891 non-null    int64  \n",
            " 3   Name         891 non-null    object \n",
            " 4   Sex          891 non-null    object \n",
            " 5   Age          714 non-null    float64\n",
            " 6   SibSp        891 non-null    int64  \n",
            " 7   Parch        891 non-null    int64  \n",
            " 8   Ticket       891 non-null    object \n",
            " 9   Fare         891 non-null    float64\n",
            " 10  Cabin        204 non-null    object \n",
            " 11  Embarked     889 non-null    object \n",
            "dtypes: float64(2), int64(5), object(5)\n",
            "memory usage: 83.7+ KB\n"
          ]
        }
      ]
    },
    {
      "cell_type": "markdown",
      "source": [
        "Pclass의 종류에 따른 분포를 나타내시오.\n",
        "\n",
        "Pclass 종류에 따른 생존 유무를 비교하시오."
      ],
      "metadata": {
        "id": "EOXgRX0Bov-X"
      }
    },
    {
      "cell_type": "code",
      "source": [
        "p_data = data['Pclass']\n",
        "\n",
        "p_data.value_counts()"
      ],
      "metadata": {
        "colab": {
          "base_uri": "https://localhost:8080/"
        },
        "id": "EZyacQOlosUM",
        "outputId": "ef64f12b-1f8a-47ac-eb20-97c79b13bcd5"
      },
      "execution_count": 121,
      "outputs": [
        {
          "output_type": "execute_result",
          "data": {
            "text/plain": [
              "3    491\n",
              "1    216\n",
              "2    184\n",
              "Name: Pclass, dtype: int64"
            ]
          },
          "metadata": {},
          "execution_count": 121
        }
      ]
    },
    {
      "cell_type": "code",
      "source": [
        "vs = p_data.value_counts().sort_index()\n",
        "plt.pie(vs.values,labels = vs.index, autopct='%.1f%%')\n",
        "plt.title(\"Pclass\")\n",
        "plt.show()\n",
        "vs\n",
        "print(len(p_data.unique())) # 집합으로 1,2,3 세개 나오니까 결과값은 3\n",
        "a = np.zeros(3)\n",
        "a"
      ],
      "metadata": {
        "colab": {
          "base_uri": "https://localhost:8080/",
          "height": 301
        },
        "id": "ZJjGad8ipEa_",
        "outputId": "0370c132-b8de-4667-e7dd-d4d1484ec791"
      },
      "execution_count": 128,
      "outputs": [
        {
          "output_type": "display_data",
          "data": {
            "text/plain": [
              "<Figure size 432x288 with 1 Axes>"
            ],
            "image/png": "[encoded data removed]"
          },
          "metadata": {}
        },
        {
          "output_type": "stream",
          "name": "stdout",
          "text": [
            "3\n"
          ]
        },
        {
          "output_type": "execute_result",
          "data": {
            "text/plain": [
              "array([0., 0., 0.])"
            ]
          },
          "metadata": {},
          "execution_count": 128
        }
      ]
    },
    {
      "cell_type": "code",
      "source": [
        "vs = p_data.value_counts().sort_index()\n",
        "\n",
        "pc_alive_arr=np.zeros(3)\n",
        "pc_dead_arr=np.zeros(3)\n",
        "# pc_alive_arr=np.zeros(len(p_data.unique()))\n",
        "for index in range(len(p_data)):\n",
        "  pi = p_data[index] -1 # 클래스 번호 -1을 배열을 인덱스로 사용\n",
        "  if s_data[index]==0:\n",
        "    pc_dead_arr[pi] +=1\n",
        "  else:\n",
        "    pc_alive_arr[pi] +=1\n",
        "pc_alive_arr, pc_dead_arr      \n"
      ],
      "metadata": {
        "colab": {
          "base_uri": "https://localhost:8080/"
        },
        "id": "ap9YUuoHpBof",
        "outputId": "b8af134b-3499-4cc7-9fa1-3d49d886c858"
      },
      "execution_count": 132,
      "outputs": [
        {
          "output_type": "execute_result",
          "data": {
            "text/plain": [
              "(array([136.,  87., 119.]), array([ 80.,  97., 372.]))"
            ]
          },
          "metadata": {},
          "execution_count": 132
        }
      ]
    },
    {
      "cell_type": "code",
      "source": [
        "plt.bar(['1','2','3'],pc_alive_arr)\n",
        "plt.bar(['1','2','3'],pc_dead_arr,bottom=pc_alive_arr)\n",
        "for i in range(3):\n",
        "  plt.annotate(str(pc_alive_arr[i]),(i-0.12,40)) # 막대그래프에 정보 나타내기\n",
        "  plt.annotate(str(pc_dead_arr[i]),(i-0.12,pc_alive_arr[i]+40))\n",
        "  \n",
        "plt.show"
      ],
      "metadata": {
        "colab": {
          "base_uri": "https://localhost:8080/",
          "height": 283
        },
        "id": "FWSX98egrXmA",
        "outputId": "0f76369f-d2bc-4992-b3d5-1220ae3c0136"
      },
      "execution_count": 133,
      "outputs": [
        {
          "output_type": "execute_result",
          "data": {
            "text/plain": [
              "<function matplotlib.pyplot.show>"
            ]
          },
          "metadata": {},
          "execution_count": 133
        },
        {
          "output_type": "display_data",
          "data": {
            "text/plain": [
              "<Figure size 432x288 with 1 Axes>"
            ],
            "image/png": "[encoded data removed]"
          },
          "metadata": {
            "needs_background": "light"
          }
        }
      ]
    },
    {
      "cell_type": "code",
      "source": [
        "# 4. Name에 부르는 호칭(Mr, Mrs, Miss, Master , Dr, ETC)에 따라 분포와 생존 비율을 분석 하시오."
      ],
      "metadata": {
        "id": "TtaGANaRw4v1"
      },
      "execution_count": null,
      "outputs": []
    },
    {
      "cell_type": "code",
      "source": [
        "n_data = data['Name']\n",
        "name_values = ['Mr','Mrs','Miss','Master','Dr','ETC']\n",
        "def get_name_index(name):\n",
        "  \n",
        "  _,s = name.split(',')\n",
        "  sarr = s.split('.')\n",
        "  Ifrag = sarr[0].replace(' ','')\n",
        "  for index in range(5):\n",
        "    if Ifrag == name_values[index]:\n",
        "      return index\n",
        "  return 5\n"
      ],
      "metadata": {
        "id": "XRCLMc_OxIb7"
      },
      "execution_count": 112,
      "outputs": []
    },
    {
      "cell_type": "code",
      "source": [
        "pn_alive_arr=np.zeros(6)\n",
        "pn_dead_arr=np.zeros(6)\n",
        "cnts=np.zeros(6)\n",
        "# pc_alive_arr=np.zeros(len(p_data.unique()))\n",
        "for index in range(len(p_data)):\n",
        "  ni = get_name_index(n_data[index]) #호칭 인덱스를 구함\n",
        "  if s_data[index]==0:\n",
        "    pn_dead_arr[ni] +=1\n",
        "  else:\n",
        "    pn_alive_arr[ni] +=1\n",
        "  cnts[ni] += 1\n",
        "pc_alive_arr, pc_dead_arr \n",
        "pc_alive_arr, pc_dead_arr, cnts \n",
        "plt.pie(cnts,labels=name_values,autopct='%.1f%%')\n",
        "plt.show()"
      ],
      "metadata": {
        "colab": {
          "base_uri": "https://localhost:8080/",
          "height": 248
        },
        "id": "Nkm_UZKqyhXq",
        "outputId": "e3da9168-1165-4563-9b0f-9a431c034fb7"
      },
      "execution_count": 116,
      "outputs": [
        {
          "output_type": "display_data",
          "data": {
            "text/plain": [
              "<Figure size 432x288 with 1 Axes>"
            ],
            "image/png": "[encoded data removed]"
          },
          "metadata": {}
        }
      ]
    },
    {
      "cell_type": "code",
      "source": [
        "plt.bar(name_values,pn_alive_arr)\n",
        "plt.bar(name_values,pn_dead_arr, bottom=pn_alive_arr)\n",
        "for i in range(6):\n",
        "  plt.annotate(str(pn_alive_arr[i]),(i-0.12,40))\n",
        "  if pn_alive_arr[i]<40:\n",
        "    plt.annotate(str(pn_dead_arr[i]),(i-0.12,80))\n",
        "  else:\n",
        "    plt.annotate(str(pn_dead_arr[i]),(i-0.12,pn_alive_arr[i]+40))\n",
        "plt.show()"
      ],
      "metadata": {
        "colab": {
          "base_uri": "https://localhost:8080/",
          "height": 265
        },
        "id": "_fKyz53Cz7oi",
        "outputId": "668b1fa7-89ce-4bd7-fd76-eb9ef12bc996"
      },
      "execution_count": 114,
      "outputs": [
        {
          "output_type": "display_data",
          "data": {
            "text/plain": [
              "<Figure size 432x288 with 1 Axes>"
            ],
            "image/png": "[encoded data removed]"
          },
          "metadata": {
            "needs_background": "light"
          }
        }
      ]
    }
  ]
}